{
 "cells": [
  {
   "cell_type": "code",
   "execution_count": 121,
   "metadata": {},
   "outputs": [],
   "source": [
    "import warnings\n",
    "import seaborn as sns\n",
    "import matplotlib.pylab as plt\n",
    "import PIL\n",
    "import pandas as pd\n",
    "import os\n",
    "from PIL import Image\n",
    "\n",
    "import tensorflow as tf\n",
    "from keras import backend as K\n",
    "from keras.preprocessing.image import ImageDataGenerator\n",
    "from keras.applications import Xception, VGG16, ResNet50, InceptionV3\n",
    "from keras.callbacks import EarlyStopping, ReduceLROnPlateau, ModelCheckpoint\n",
    "from keras import layers, models, optimizers\n",
    "from keras.models import Sequential\n",
    "from keras.layers import Conv2D, MaxPooling2D\n",
    "from sklearn.model_selection import train_test_split\n",
    "from keras.applications.xception import Xception, preprocess_input\n",
    "from keras.preprocessing.image import ImageDataGenerator\n",
    "\n",
    "\n",
    "import numpy as np # linear algebra\n",
    "\n",
    "from numpy.random import seed"
   ]
  },
  {
   "cell_type": "code",
   "execution_count": 122,
   "metadata": {},
   "outputs": [],
   "source": [
    "K.clear_session()"
   ]
  },
  {
   "cell_type": "code",
   "execution_count": 123,
   "metadata": {},
   "outputs": [],
   "source": [
    "SEED = 2\n",
    "seed(SEED)\n",
    "tf.set_random_seed(SEED)"
   ]
  },
  {
   "cell_type": "code",
   "execution_count": 124,
   "metadata": {},
   "outputs": [],
   "source": [
    "DATA_PATH = '../input'\n",
    "TRAIN_IMG_PATH = os.path.join(DATA_PATH, 'train')\n",
    "TEST_IMG_PATH = os.path.join(DATA_PATH, 'test')\n",
    "TRAIN_CROP_PATH = os.path.join(DATA_PATH, 'train_crop_299')\n",
    "TEST_CROP_PATH = os.path.join(DATA_PATH, 'test_crop_299')\n",
    "\n",
    "df_train = pd.read_csv(os.path.join(DATA_PATH, 'train.csv'))\n",
    "df_test = pd.read_csv(os.path.join(DATA_PATH, 'test.csv'))\n",
    "df_class = pd.read_csv(os.path.join(DATA_PATH, 'class.csv'))\n",
    "image_size=299"
   ]
  },
  {
   "cell_type": "code",
   "execution_count": 308,
   "metadata": {},
   "outputs": [],
   "source": [
    "#https://github.com/yu4u/cutout-random-erasing\n",
    "def get_random_eraser(p=0.9, s_l=0.02, s_h=0.4, r_1=0.3, r_2=1/0.3, v_l=0, v_h=1, pixel_level=True):\n",
    "    def eraser(input_img):\n",
    "        img_h, img_w, img_c = input_img.shape\n",
    "        p_1 = np.random.rand()\n",
    "\n",
    "        if p_1 > p:\n",
    "            return input_img\n",
    "\n",
    "        while True:\n",
    "            s = np.random.uniform(s_l, s_h) * img_h * img_w\n",
    "            r = np.random.uniform(r_1, r_2)\n",
    "            w = int(np.sqrt(s / r))\n",
    "            h = int(np.sqrt(s * r))\n",
    "            left = np.random.randint(0, img_w)\n",
    "            top = np.random.randint(0, img_h)\n",
    "\n",
    "            if left + w <= img_w and top + h <= img_h:\n",
    "                break\n",
    "\n",
    "        if pixel_level:\n",
    "            c = np.random.uniform(v_l, v_h, (h, w, img_c))\n",
    "        else:\n",
    "            c = np.random.uniform(v_l, v_h)\n",
    "\n",
    "        input_img[top:top + h, left:left + w, :] = c\n",
    "\n",
    "        return input_img\n",
    "\n",
    "    return eraser"
   ]
  },
  {
   "cell_type": "code",
   "execution_count": 310,
   "metadata": {},
   "outputs": [],
   "source": [
    "train_datagen = ImageDataGenerator(\n",
    "    rotation_range=20,\n",
    "    width_shift_range=0.2,\n",
    "    height_shift_range=0.2,\n",
    "    horizontal_flip=True,\n",
    "    vertical_flip=False,\n",
    "    zoom_range=0.1,\n",
    "    fill_mode='nearest',\n",
    "    preprocessing_function=get_random_eraser(v_l=0, v_h=1)\n",
    "    )\n",
    "\n",
    "valid_datagen = ImageDataGenerator()\n",
    "test_datagen = ImageDataGenerator()"
   ]
  },
  {
   "cell_type": "code",
   "execution_count": 311,
   "metadata": {},
   "outputs": [],
   "source": [
    "def get_generator(train_df, val_df, train_dir, valid_dir, test_df, test_dir, image_size, batch_size,valid_batch_size,\n",
    "                 scale='rgb', target='class'):\n",
    "    train_generator = train_datagen.flow_from_dataframe(\n",
    "        dataframe=train_df, \n",
    "        directory=train_dir,\n",
    "        x_col = 'img_file',\n",
    "        y_col = target,\n",
    "        target_size=(image_size, image_size),\n",
    "        batch_size=batch_size,\n",
    "        class_mode='categorical',\n",
    "        seed=3,\n",
    "        color_mode=scale,\n",
    "        shuffle=True,\n",
    "\n",
    "    )\n",
    "    validation_generator = valid_datagen.flow_from_dataframe(\n",
    "        dataframe=val_df,\n",
    "        directory=valid_dir,\n",
    "        x_col = 'img_file',\n",
    "        y_col = target,\n",
    "        target_size=(image_size,image_size),\n",
    "        batch_size=valid_batch_size,\n",
    "        class_mode='categorical',\n",
    "        seed=3,\n",
    "        color_mode=scale\n",
    "        #processing_function=preprocess_input\n",
    "    )\n",
    "    test_generator = test_datagen.flow_from_dataframe(\n",
    "        dataframe=test_df,\n",
    "        directory=test_dir,\n",
    "        x_col='img_file',\n",
    "        y_col=None,\n",
    "        target_size= (image_size,image_size),\n",
    "        color_mode=scale,\n",
    "        class_mode=None,\n",
    "        batch_size=batch_size,\n",
    "        shuffle=False,\n",
    "        #preprocessing_function=preprocess_input\n",
    "    )\n",
    "    return train_generator, validation_generator, test_generator"
   ]
  },
  {
   "cell_type": "code",
   "execution_count": 312,
   "metadata": {},
   "outputs": [],
   "source": [
    "df_train[\"class\"] = df_train[\"class\"].astype('str')\n",
    "df_train = df_train[['img_file', 'class']]\n",
    "df_test = df_test[['img_file']]"
   ]
  },
  {
   "cell_type": "code",
   "execution_count": 313,
   "metadata": {},
   "outputs": [],
   "source": [
    "def split_traindf(df, train_size=0.6, stratify=True, label='class'):\n",
    "    target = None\n",
    "    if stratify:\n",
    "        target = df[label].values\n",
    "    X_train, X_val = train_test_split(df, train_size=train_size, random_state=SEED, stratify=target)\n",
    "    X_train = X_train.reset_index(drop=True)\n",
    "    X_val = X_val.reset_index(drop=True)\n",
    "    return X_train, X_val"
   ]
  },
  {
   "cell_type": "code",
   "execution_count": 314,
   "metadata": {},
   "outputs": [],
   "source": [
    "X_train, X_val = split_traindf(df_train.iloc[:, :], train_size=0.7, stratify=True)\n",
    "nb_train_sample = X_train.shape[0]\n",
    "nb_validation_sample = X_val.shape[0]\n",
    "nb_test_sample = df_test.shape[0]\n",
    "scale = 'rgb'"
   ]
  },
  {
   "cell_type": "code",
   "execution_count": 315,
   "metadata": {},
   "outputs": [],
   "source": [
    "batch_size=16\n",
    "valid_batch_size=16"
   ]
  },
  {
   "cell_type": "code",
   "execution_count": 316,
   "metadata": {},
   "outputs": [
    {
     "name": "stdout",
     "output_type": "stream",
     "text": [
      "Found 6993 validated image filenames belonging to 196 classes.\n",
      "Found 2997 validated image filenames belonging to 196 classes.\n",
      "Found 6150 validated image filenames.\n"
     ]
    }
   ],
   "source": [
    "train_gen, validation_gen, test_gen = get_generator(train_df=X_train,\n",
    "                                                    val_df=X_val,\n",
    "                                                    train_dir=TRAIN_CROP_PATH,\n",
    "                                                    valid_dir=TRAIN_CROP_PATH,\n",
    "                                                    test_df=df_test,\n",
    "                                                    test_dir=TEST_CROP_PATH,\n",
    "                                                    image_size=image_size,\n",
    "                                                    batch_size=batch_size,\n",
    "                                                    scale=scale,\n",
    "                                                    valid_batch_size=valid_batch_size)"
   ]
  },
  {
   "cell_type": "code",
   "execution_count": 317,
   "metadata": {},
   "outputs": [
    {
     "data": {
      "text/plain": [
       "<matplotlib.image.AxesImage at 0x7fe8ffca8080>"
      ]
     },
     "execution_count": 317,
     "metadata": {},
     "output_type": "execute_result"
    },
    {
     "data": {
      "image/png": "[encoded data removed]",
      "text/plain": [
       "<Figure size 432x288 with 1 Axes>"
      ]
     },
     "metadata": {
      "needs_background": "light"
     },
     "output_type": "display_data"
    }
   ],
   "source": [
    "a,b = next(train_gen)\n",
    "import cv2\n",
    "%matplotlib inline\n",
    "import matplotlib.pyplot as plt\n",
    "from PIL import Image\n",
    "plt.imshow(a[0].astype('int'))"
   ]
  },
  {
   "cell_type": "code",
   "execution_count": null,
   "metadata": {},
   "outputs": [],
   "source": []
  },
  {
   "cell_type": "code",
   "execution_count": 134,
   "metadata": {},
   "outputs": [],
   "source": [
    "def get_model(app, image_size, opt, num_class=196, lr=0.0001):\n",
    "    if app=='Xception':\n",
    "        application = Xception\n",
    "    elif app=='VGG16':\n",
    "        application = VGG16\n",
    "    elif app=='ResNet50':\n",
    "        application = ResNet50\n",
    "    elif app=='InceptionV3':\n",
    "        application = InceptionV3\n",
    "    base_model = application(weights='imagenet', input_shape=(image_size,image_size,3), include_top=False)\n",
    "    #base_model.trainable = False\n",
    "    \n",
    "\n",
    "    model = models.Sequential()\n",
    "    model.add(base_model)\n",
    "    model.add(layers.GlobalAveragePooling2D())\n",
    "    model.add(layers.Dense(512, activation='sigmoid'))\n",
    "    model.add(layers.Dropout(0.2))\n",
    "    model.add(layers.Dense(num_class, activation='softmax'))\n",
    "    #model.summary()\n",
    "    \n",
    "    model.compile(loss='categorical_crossentropy', optimizer=opt, metrics=['acc'])\n",
    "\n",
    "    return model"
   ]
  },
  {
   "cell_type": "code",
   "execution_count": 43,
   "metadata": {},
   "outputs": [],
   "source": [
    "def get_model_path(model_dir, model_name, model_type):\n",
    "    if not os.path.exists(model_dir):\n",
    "        os.mkdir(model_dir)\n",
    "    from datetime import datetime\n",
    "    now = datetime.now()\n",
    "    date_time = now.strftime(\"%m%d_%H%M\")\n",
    "    model_path =model_dir +  \"{}_{}_{}.{}\".format(model_name , date_time ,model_type, '.hdf5')\n",
    "    print('>>model path to save: {}'.format(model_path))\n",
    "    return model_path"
   ]
  },
  {
   "cell_type": "code",
   "execution_count": 44,
   "metadata": {},
   "outputs": [],
   "source": [
    "model_type='Xception'\n",
    "image_size = 299 if model_type=='Xception' else 224\n",
    "histories=[]\n",
    "patient = 3\n",
    "lr = 0.0001\n",
    "epoch=300"
   ]
  },
  {
   "cell_type": "code",
   "execution_count": 45,
   "metadata": {},
   "outputs": [
    {
     "name": "stdout",
     "output_type": "stream",
     "text": [
      ">>model path to save: ../model/baseline_randbox_0706_2104_Xception..hdf5\n",
      ">>get model completed\n"
     ]
    }
   ],
   "source": [
    "model_name = 'baseline_randbox'\n",
    "model_dir = '../model/'\n",
    "model_path = get_model_path(model_dir, model_name, model_type)\n",
    "model = get_model(app=model_type, image_size=image_size, opt=optimizers.RMSprop(lr=lr), lr=lr)\n",
    "print('>>get model completed')"
   ]
  },
  {
   "cell_type": "code",
   "execution_count": 46,
   "metadata": {},
   "outputs": [],
   "source": [
    "def get_callback(patient, model_path, lr, total_count):\n",
    "    callbacks = [\n",
    "        EarlyStopping(monitor='val_loss',\n",
    "                      patience=patient,\n",
    "                      mode='min',\n",
    "                      verbose=1),\n",
    "        #ReduceLROnPlateau(monitor = 'val_loss', factor = 0.5, patience = patient / 2, min_lr=0.00001, verbose=1, mode='min'),\n",
    "        ModelCheckpoint(filepath=model_path,\n",
    "                        monitor='val_loss',\n",
    "                        verbose=1,\n",
    "                        save_best_only=True,\n",
    "                        mode='min'),\n",
    "        ReduceLROnPlateau(monitor = 'val_loss',\n",
    "                          factor = 0.5, patience = patient / 2,\n",
    "                          min_lr=0.00001, verbose=1, mode='min'),\n",
    "\n",
    "    ]\n",
    "    return callbacks"
   ]
  },
  {
   "cell_type": "code",
   "execution_count": 47,
   "metadata": {},
   "outputs": [],
   "source": [
    "def get_steps(num_samples, batch_size):\n",
    "    if (num_samples % batch_size) > 0:\n",
    "        return (num_samples // batch_size) + 1\n",
    "    else:\n",
    "        return num_samples // batch_size\n",
    "    "
   ]
  },
  {
   "cell_type": "code",
   "execution_count": 48,
   "metadata": {},
   "outputs": [
    {
     "name": "stdout",
     "output_type": "stream",
     "text": [
      "Epoch 1/300\n",
      "439/439 [==============================] - 188s 427ms/step - loss: 5.0687 - acc: 0.0323 - val_loss: 4.3227 - val_acc: 0.1637\n",
      "\n",
      "Epoch 00001: val_loss improved from inf to 4.32273, saving model to ../model/baseline_randbox_0706_2104_Xception..hdf5\n",
      "Epoch 2/300\n",
      "439/439 [==============================] - 181s 412ms/step - loss: 4.0139 - acc: 0.1810 - val_loss: 3.1976 - val_acc: 0.3870\n",
      "\n",
      "Epoch 00002: val_loss improved from 4.32273 to 3.19765, saving model to ../model/baseline_randbox_0706_2104_Xception..hdf5\n",
      "Epoch 3/300\n",
      "439/439 [==============================] - 181s 413ms/step - loss: 2.9631 - acc: 0.3943 - val_loss: 2.2086 - val_acc: 0.6050\n",
      "\n",
      "Epoch 00003: val_loss improved from 3.19765 to 2.20863, saving model to ../model/baseline_randbox_0706_2104_Xception..hdf5\n",
      "Epoch 4/300\n",
      "439/439 [==============================] - 181s 413ms/step - loss: 2.0272 - acc: 0.6122 - val_loss: 1.4399 - val_acc: 0.7285\n",
      "\n",
      "Epoch 00004: val_loss improved from 2.20863 to 1.43993, saving model to ../model/baseline_randbox_0706_2104_Xception..hdf5\n",
      "Epoch 5/300\n",
      "439/439 [==============================] - 182s 414ms/step - loss: 1.3123 - acc: 0.7493 - val_loss: 1.0157 - val_acc: 0.7744\n",
      "\n",
      "Epoch 00005: val_loss improved from 1.43993 to 1.01572, saving model to ../model/baseline_randbox_0706_2104_Xception..hdf5\n",
      "Epoch 6/300\n",
      "439/439 [==============================] - 182s 414ms/step - loss: 0.8219 - acc: 0.8431 - val_loss: 0.7468 - val_acc: 0.8090\n",
      "\n",
      "Epoch 00006: val_loss improved from 1.01572 to 0.74678, saving model to ../model/baseline_randbox_0706_2104_Xception..hdf5\n",
      "Epoch 7/300\n",
      "439/439 [==============================] - 182s 414ms/step - loss: 0.5387 - acc: 0.8931 - val_loss: 0.5790 - val_acc: 0.8532\n",
      "\n",
      "Epoch 00007: val_loss improved from 0.74678 to 0.57905, saving model to ../model/baseline_randbox_0706_2104_Xception..hdf5\n",
      "Epoch 8/300\n",
      "439/439 [==============================] - 182s 414ms/step - loss: 0.3445 - acc: 0.9310 - val_loss: 0.4751 - val_acc: 0.8729\n",
      "\n",
      "Epoch 00008: val_loss improved from 0.57905 to 0.47510, saving model to ../model/baseline_randbox_0706_2104_Xception..hdf5\n",
      "Epoch 9/300\n",
      "439/439 [==============================] - 182s 414ms/step - loss: 0.2421 - acc: 0.9490 - val_loss: 0.4459 - val_acc: 0.8792\n",
      "\n",
      "Epoch 00009: val_loss improved from 0.47510 to 0.44588, saving model to ../model/baseline_randbox_0706_2104_Xception..hdf5\n",
      "Epoch 10/300\n",
      "439/439 [==============================] - 182s 414ms/step - loss: 0.1713 - acc: 0.9617 - val_loss: 0.4252 - val_acc: 0.8792\n",
      "\n",
      "Epoch 00010: val_loss improved from 0.44588 to 0.42515, saving model to ../model/baseline_randbox_0706_2104_Xception..hdf5\n",
      "Epoch 11/300\n",
      "439/439 [==============================] - 182s 414ms/step - loss: 0.1281 - acc: 0.9720 - val_loss: 0.4338 - val_acc: 0.8835\n",
      "\n",
      "Epoch 00011: val_loss did not improve from 0.42515\n",
      "Epoch 12/300\n",
      "439/439 [==============================] - 182s 414ms/step - loss: 0.0982 - acc: 0.9768 - val_loss: 0.4540 - val_acc: 0.8775\n",
      "\n",
      "Epoch 00012: val_loss did not improve from 0.42515\n",
      "\n",
      "Epoch 00012: ReduceLROnPlateau reducing learning rate to 4.999999873689376e-05.\n",
      "Epoch 13/300\n",
      "439/439 [==============================] - 182s 414ms/step - loss: 0.0604 - acc: 0.9873 - val_loss: 0.3589 - val_acc: 0.9005\n",
      "\n",
      "Epoch 00013: val_loss improved from 0.42515 to 0.35889, saving model to ../model/baseline_randbox_0706_2104_Xception..hdf5\n",
      "Epoch 14/300\n",
      "439/439 [==============================] - 182s 414ms/step - loss: 0.0446 - acc: 0.9916 - val_loss: 0.3666 - val_acc: 0.8962\n",
      "\n",
      "Epoch 00014: val_loss did not improve from 0.35889\n",
      "Epoch 15/300\n",
      "439/439 [==============================] - 182s 414ms/step - loss: 0.0336 - acc: 0.9930 - val_loss: 0.3603 - val_acc: 0.9048\n",
      "\n",
      "Epoch 00015: val_loss did not improve from 0.35889\n",
      "\n",
      "Epoch 00015: ReduceLROnPlateau reducing learning rate to 2.499999936844688e-05.\n",
      "Epoch 16/300\n",
      "439/439 [==============================] - 182s 414ms/step - loss: 0.0237 - acc: 0.9957 - val_loss: 0.3570 - val_acc: 0.9038\n",
      "\n",
      "Epoch 00016: val_loss improved from 0.35889 to 0.35702, saving model to ../model/baseline_randbox_0706_2104_Xception..hdf5\n",
      "Epoch 17/300\n",
      "439/439 [==============================] - 182s 414ms/step - loss: 0.0196 - acc: 0.9962 - val_loss: 0.3657 - val_acc: 0.9048\n",
      "\n",
      "Epoch 00017: val_loss did not improve from 0.35702\n",
      "Epoch 18/300\n",
      "439/439 [==============================] - 182s 414ms/step - loss: 0.0181 - acc: 0.9966 - val_loss: 0.3642 - val_acc: 0.9078\n",
      "\n",
      "Epoch 00018: val_loss did not improve from 0.35702\n",
      "\n",
      "Epoch 00018: ReduceLROnPlateau reducing learning rate to 1.249999968422344e-05.\n",
      "Epoch 19/300\n",
      "439/439 [==============================] - 182s 414ms/step - loss: 0.0201 - acc: 0.9964 - val_loss: 0.3610 - val_acc: 0.9075\n",
      "\n",
      "Epoch 00019: val_loss did not improve from 0.35702\n",
      "Epoch 00019: early stopping\n"
     ]
    }
   ],
   "source": [
    "history = model.fit_generator(\n",
    "    train_gen,\n",
    "    steps_per_epoch=get_steps(nb_train_sample, batch_size),\n",
    "    epochs=epoch,\n",
    "    validation_data=validation_gen,\n",
    "    validation_steps=get_steps(nb_validation_sample, valid_batch_size),\n",
    "    verbose=1,\n",
    "    callbacks=get_callback(patient, model_path, lr, len(X_train))\n",
    ")"
   ]
  },
  {
   "cell_type": "markdown",
   "metadata": {},
   "source": [
    "use 5000 images\n",
    "baseline + ratio image test\n"
   ]
  }
 ],
 "metadata": {
  "kernelspec": {
   "display_name": "Python 3",
   "language": "python",
   "name": "python3"
  },
  "language_info": {
   "codemirror_mode": {
    "name": "ipython",
    "version": 3
   },
   "file_extension": ".py",
   "mimetype": "text/x-python",
   "name": "python",
   "nbconvert_exporter": "python",
   "pygments_lexer": "ipython3",
   "version": "3.5.2"
  }
 },
 "nbformat": 4,
 "nbformat_minor": 2
}
