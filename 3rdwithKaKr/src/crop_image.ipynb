{
 "cells": [
  {
   "cell_type": "code",
   "execution_count": 1,
   "metadata": {},
   "outputs": [],
   "source": [
    "from PIL import Image\n",
    "import os\n",
    "import PIL\n",
    "import pandas as pd"
   ]
  },
  {
   "cell_type": "code",
   "execution_count": 2,
   "metadata": {},
   "outputs": [],
   "source": [
    "INPUT_DIR = '../input/'\n"
   ]
  },
  {
   "cell_type": "code",
   "execution_count": 3,
   "metadata": {},
   "outputs": [],
   "source": [
    "TRAIN_IMG_PATH = os.path.join(INPUT_DIR, 'train')\n",
    "TEST_IMG_PATH = os.path.join(INPUT_DIR, 'test')\n",
    "\n",
    "TRAIN_CROP = os.path.join(INPUT_DIR, 'train_crop_299')\n",
    "TEST_CROP = os.path.join(INPUT_DIR, 'test_crop_299')\n",
    "\n",
    "TRAIN_CROP_RATIO = os.path.join(INPUT_DIR, 'train_crop_299_ratio')\n",
    "TEST_CROP_RATIO = os.path.join(INPUT_DIR, 'test_crop_299_ratio')\n",
    "\n",
    "\n",
    "df_train = pd.read_csv(os.path.join(INPUT_DIR, 'train.csv'))\n",
    "df_test = pd.read_csv(os.path.join(INPUT_DIR, 'test.csv'))"
   ]
  },
  {
   "cell_type": "code",
   "execution_count": 4,
   "metadata": {},
   "outputs": [],
   "source": [
    "#fix size with ratio\n",
    "def fix_size(im, desired_w, desired_h, fill_color=(0, 0, 0, 255)):\n",
    "    x, y = im.size\n",
    "\n",
    "    ratio = x / y\n",
    "    desired_ratio = desired_w / desired_h\n",
    "\n",
    "    w = max(desired_w, x)\n",
    "    h = int(w / desired_ratio)\n",
    "    if h < y:\n",
    "        h = y\n",
    "        w = int(h * desired_ratio)\n",
    "\n",
    "    new_im = Image.new('RGB', (w, h), fill_color)\n",
    "    new_im.paste(im, ((w - x) // 2, (h - y) // 2))\n",
    "    return new_im.resize((desired_w, desired_h))"
   ]
  },
  {
   "cell_type": "code",
   "execution_count": 5,
   "metadata": {},
   "outputs": [],
   "source": [
    "#crop image no ratio \n",
    "def crop_boxing_img(row, path, size,  margin=0, ratio=False):\n",
    "\n",
    "    img = PIL.Image.open(os.path.join(path,row['img_file']))\n",
    "    pos =row[['bbox_x1', 'bbox_y1', 'bbox_x2', 'bbox_y2']].values.reshape(-1)\n",
    "    width, height = img.size\n",
    "    \n",
    "    x1 = max(0, pos[0] - margin)\n",
    "    y1 = max(0, pos[1] - margin)\n",
    "    x2 = min(pos[2] + margin, width)\n",
    "    y2 = min(pos[3] + margin, height)\n",
    "    \n",
    "    img_no_ratio = img.crop((x1, y1, x2, y2)).resize((size,size))\n",
    "    img_ratio = None\n",
    "    if ratio==True:\n",
    "        img_ratio = fix_size(img.crop((x1,y1,x2,y2)),\n",
    "                             desired_w=size,\n",
    "                             desired_h=size)\n",
    "    return img_no_ratio, img_ratio\n",
    " "
   ]
  },
  {
   "cell_type": "code",
   "execution_count": 6,
   "metadata": {},
   "outputs": [
    {
     "data": {
      "text/plain": [
       "'\\nimport shutil\\nshutil.rmtree(TRAIN_CROP, ignore_errors=True)\\nshutil.rmtree(TEST_CROP, ignore_errors=True)\\nshutil.rmtree(TRAIN_CROP_RATIO, ignore_errors=True)\\nshutil.rmtree(TEST_CROP_RATIO, ignore_errors=True)\\n'"
      ]
     },
     "execution_count": 6,
     "metadata": {},
     "output_type": "execute_result"
    }
   ],
   "source": [
    "'''\n",
    "import shutil\n",
    "shutil.rmtree(TRAIN_CROP, ignore_errors=True)\n",
    "shutil.rmtree(TEST_CROP, ignore_errors=True)\n",
    "shutil.rmtree(TRAIN_CROP_RATIO, ignore_errors=True)\n",
    "shutil.rmtree(TEST_CROP_RATIO, ignore_errors=True)\n",
    "'''"
   ]
  },
  {
   "cell_type": "code",
   "execution_count": 7,
   "metadata": {},
   "outputs": [],
   "source": [
    "def crop_img(df, path_image, path_crop, path_crop_ratio, image_size, ratio=False):\n",
    "    if not os.path.exists(path_crop):\n",
    "        os.mkdir(path_crop)\n",
    "        if ratio:\n",
    "            os.mkdir(path_crop_ratio)\n",
    "        print('>>mkdir {}'.format(path_crop))\n",
    "        print('>>mkdir {}'.format(path_crop_ratio))\n",
    "        for i, row in df.iterrows():\n",
    "            cropped, cropped_ratio = crop_boxing_img(row,\n",
    "                                             path_image,\n",
    "                                             size=image_size,\n",
    "                                             ratio=ratio)\n",
    "            cropped.save(path_crop+\"/\"+row['img_file'])\n",
    "            if ratio:\n",
    "                cropped_ratio.save(path_crop_ratio+\"/\"+row['img_file'])\n",
    "        print('>>crop completed')\n",
    "    else:\n",
    "        print('>>{} exist'.format(path_crop))"
   ]
  },
  {
   "cell_type": "code",
   "execution_count": 8,
   "metadata": {},
   "outputs": [
    {
     "name": "stdout",
     "output_type": "stream",
     "text": [
      ">>mkdir ../input/train_crop_299\n",
      ">>mkdir ../input/train_crop_299_ratio\n",
      ">>crop completed\n",
      ">>mkdir ../input/test_crop_299\n",
      ">>mkdir ../input/test_crop_299_ratio\n",
      ">>crop completed\n"
     ]
    }
   ],
   "source": [
    "image_size=299\n",
    "\n",
    "crop_img(df=df_train,\n",
    "         path_image=TRAIN_IMG_PATH,\n",
    "         path_crop=TRAIN_CROP,\n",
    "         path_crop_ratio=TRAIN_CROP_RATIO,\n",
    "         image_size=image_size,\n",
    "         ratio=False)\n",
    "\n",
    "crop_img(df=df_test,\n",
    "         path_image=TEST_IMG_PATH,\n",
    "         path_crop=TEST_CROP,\n",
    "         path_crop_ratio=TEST_CROP_RATIO,\n",
    "         image_size=image_size,\n",
    "         ratio=False)"
   ]
  },
  {
   "cell_type": "code",
   "execution_count": 9,
   "metadata": {},
   "outputs": [
    {
     "name": "stdout",
     "output_type": "stream",
     "text": [
      "9990\n"
     ]
    },
    {
     "ename": "FileNotFoundError",
     "evalue": "[Errno 2] No such file or directory: '../input/train_crop_299_ratio'",
     "output_type": "error",
     "traceback": [
      "\u001b[0;31m---------------------------------------------------------------------------\u001b[0m",
      "\u001b[0;31mFileNotFoundError\u001b[0m                         Traceback (most recent call last)",
      "\u001b[0;32m<ipython-input-9-7985c1b6fa54>\u001b[0m in \u001b[0;36m<module>\u001b[0;34m\u001b[0m\n\u001b[1;32m      1\u001b[0m \u001b[0mprint\u001b[0m\u001b[0;34m(\u001b[0m\u001b[0mlen\u001b[0m\u001b[0;34m(\u001b[0m\u001b[0mos\u001b[0m\u001b[0;34m.\u001b[0m\u001b[0mlistdir\u001b[0m\u001b[0;34m(\u001b[0m\u001b[0mTRAIN_CROP\u001b[0m\u001b[0;34m)\u001b[0m\u001b[0;34m)\u001b[0m\u001b[0;34m)\u001b[0m\u001b[0;34m\u001b[0m\u001b[0m\n\u001b[0;32m----> 2\u001b[0;31m \u001b[0mprint\u001b[0m\u001b[0;34m(\u001b[0m\u001b[0mlen\u001b[0m\u001b[0;34m(\u001b[0m\u001b[0mos\u001b[0m\u001b[0;34m.\u001b[0m\u001b[0mlistdir\u001b[0m\u001b[0;34m(\u001b[0m\u001b[0mTRAIN_CROP_RATIO\u001b[0m\u001b[0;34m)\u001b[0m\u001b[0;34m)\u001b[0m\u001b[0;34m)\u001b[0m\u001b[0;34m\u001b[0m\u001b[0m\n\u001b[0m\u001b[1;32m      3\u001b[0m \u001b[0mprint\u001b[0m\u001b[0;34m(\u001b[0m\u001b[0mlen\u001b[0m\u001b[0;34m(\u001b[0m\u001b[0mos\u001b[0m\u001b[0;34m.\u001b[0m\u001b[0mlistdir\u001b[0m\u001b[0;34m(\u001b[0m\u001b[0mTEST_CROP\u001b[0m\u001b[0;34m)\u001b[0m\u001b[0;34m)\u001b[0m\u001b[0;34m)\u001b[0m\u001b[0;34m\u001b[0m\u001b[0m\n\u001b[1;32m      4\u001b[0m \u001b[0mprint\u001b[0m\u001b[0;34m(\u001b[0m\u001b[0mlen\u001b[0m\u001b[0;34m(\u001b[0m\u001b[0mos\u001b[0m\u001b[0;34m.\u001b[0m\u001b[0mlistdir\u001b[0m\u001b[0;34m(\u001b[0m\u001b[0mTEST_CROP_RATIO\u001b[0m\u001b[0;34m)\u001b[0m\u001b[0;34m)\u001b[0m\u001b[0;34m)\u001b[0m\u001b[0;34m\u001b[0m\u001b[0m\n",
      "\u001b[0;31mFileNotFoundError\u001b[0m: [Errno 2] No such file or directory: '../input/train_crop_299_ratio'"
     ]
    }
   ],
   "source": [
    "print(len(os.listdir(TRAIN_CROP)))\n",
    "print(len(os.listdir(TEST_CROP)))\n"
   ]
  },
  {
   "cell_type": "code",
   "execution_count": null,
   "metadata": {},
   "outputs": [],
   "source": [
    "import matplotlib\n",
    "%matplotlib inline\n",
    "PIL.Image.open(os.path.join(TRAIN_CROP, os.listdir(TRAIN_CROP)[0]))"
   ]
  },
  {
   "cell_type": "code",
   "execution_count": null,
   "metadata": {},
   "outputs": [],
   "source": [
    "PIL.Image.open(os.path.join(TRAIN_CROP_RATIO, os.listdir(TRAIN_CROP_RATIO)[0]))"
   ]
  },
  {
   "cell_type": "code",
   "execution_count": null,
   "metadata": {},
   "outputs": [],
   "source": [
    "\n",
    "TRAIN_CROP_224 = os.path.join(INPUT_DIR, 'train_crop_224')\n",
    "TEST_CROP_224 = os.path.join(INPUT_DIR, 'test_crop_224')\n",
    "TRAIN_CROP_224_RATIO = os.path.join(INPUT_DIR, 'train_crop_224_ratio')\n",
    "TEST_CROP_224_RATIO = os.path.join(INPUT_DIR, 'test_crop_224_ratio')\n",
    "\n",
    "image_size=224\n",
    "\n",
    "crop_img(df=df_train,\n",
    "         path_image=TRAIN_IMG_PATH,\n",
    "         path_crop=TRAIN_CROP_224,\n",
    "         path_crop_ratio=TRAIN_CROP_224_RATIO,\n",
    "         image_size=image_size)\n",
    "\n",
    "crop_img(df=df_test,\n",
    "         path_image=TEST_IMG_PATH,\n",
    "         path_crop=TEST_CROP_224,\n",
    "         path_crop_ratio=TEST_CROP_224_RATIO,\n",
    "         image_size=image_size)"
   ]
  },
  {
   "cell_type": "code",
   "execution_count": null,
   "metadata": {},
   "outputs": [],
   "source": []
  }
 ],
 "metadata": {
  "kernelspec": {
   "display_name": "Python 3",
   "language": "python",
   "name": "python3"
  },
  "language_info": {
   "codemirror_mode": {
    "name": "ipython",
    "version": 3
   },
   "file_extension": ".py",
   "mimetype": "text/x-python",
   "name": "python",
   "nbconvert_exporter": "python",
   "pygments_lexer": "ipython3",
   "version": "3.5.2"
  }
 },
 "nbformat": 4,
 "nbformat_minor": 2
}
