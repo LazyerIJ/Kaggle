{
 "cells": [
  {
   "cell_type": "code",
   "execution_count": 64,
   "metadata": {},
   "outputs": [],
   "source": [
    "import os\n",
    "import pandas as pd\n",
    "import numpy as np\n",
    "import seaborn as sns\n",
    "import warnings\n",
    "import matplotlib.pyplot as plt\n",
    "import matplotlib.patches as patches\n",
    "import time\n",
    "from string import punctuation\n",
    "import datetime\n",
    "from keras.layers import Dense,Input,Flatten,concatenate,Dropout,Lambda\n",
    "from keras.models import Model\n",
    "import keras.backend as K\n",
    "import re\n",
    "from keras.losses import binary_crossentropy\n",
    "from  keras.callbacks import EarlyStopping,ModelCheckpoint\n",
    "import codecs\n",
    "\n",
    "from keras.utils import to_categorical\n",
    "from keras.callbacks import EarlyStopping, ModelCheckpoint, Callback\n",
    "from sklearn.metrics import f1_score\n",
    "from keras import optimizers\n",
    "from sklearn.preprocessing import StandardScaler\n",
    "from sklearn.model_selection import train_test_split\n",
    "\n",
    "from keras.layers import Dense,Input,Flatten,concatenate,Dropout,Lambda,BatchNormalization\n",
    "from keras.models import Model\n",
    "import keras.backend as K\n",
    "from keras.callbacks import Callback\n",
    "from  keras.callbacks import EarlyStopping,ModelCheckpoint\n",
    "import datetime\n",
    "from sklearn.model_selection import train_test_split, KFold, StratifiedKFold\n",
    "import time\n",
    "\n",
    "warnings.filterwarnings(\"ignore\")\n",
    "pd.set_option('max_columns', None)"
   ]
  },
  {
   "cell_type": "code",
   "execution_count": 65,
   "metadata": {},
   "outputs": [
    {
     "name": "stdout",
     "output_type": "stream",
     "text": [
      "<class 'pandas.core.frame.DataFrame'>\n",
      "RangeIndex: 509762 entries, 0 to 509761\n",
      "Data columns (total 49 columns):\n",
      "GameId                    509762 non-null int64\n",
      "PlayId                    509762 non-null int64\n",
      "Team                      509762 non-null object\n",
      "X                         509762 non-null float64\n",
      "Y                         509762 non-null float64\n",
      "S                         509762 non-null float64\n",
      "A                         509762 non-null float64\n",
      "Dis                       509762 non-null float64\n",
      "Orientation               509744 non-null float64\n",
      "Dir                       509748 non-null float64\n",
      "NflId                     509762 non-null int64\n",
      "DisplayName               509762 non-null object\n",
      "JerseyNumber              509762 non-null int64\n",
      "Season                    509762 non-null int64\n",
      "YardLine                  509762 non-null int64\n",
      "Quarter                   509762 non-null int64\n",
      "GameClock                 509762 non-null object\n",
      "PossessionTeam            509762 non-null object\n",
      "Down                      509762 non-null int64\n",
      "Distance                  509762 non-null int64\n",
      "FieldPosition             503338 non-null object\n",
      "HomeScoreBeforePlay       509762 non-null int64\n",
      "VisitorScoreBeforePlay    509762 non-null int64\n",
      "NflIdRusher               509762 non-null int64\n",
      "OffenseFormation          509652 non-null object\n",
      "OffensePersonnel          509762 non-null object\n",
      "DefendersInTheBox         509696 non-null float64\n",
      "DefensePersonnel          509762 non-null object\n",
      "PlayDirection             509762 non-null object\n",
      "TimeHandoff               509762 non-null object\n",
      "TimeSnap                  509762 non-null object\n",
      "Yards                     509762 non-null int64\n",
      "PlayerHeight              509762 non-null object\n",
      "PlayerWeight              509762 non-null int64\n",
      "PlayerBirthDate           509762 non-null object\n",
      "PlayerCollegeName         509762 non-null object\n",
      "Position                  509762 non-null object\n",
      "HomeTeamAbbr              509762 non-null object\n",
      "VisitorTeamAbbr           509762 non-null object\n",
      "Week                      509762 non-null int64\n",
      "Stadium                   509762 non-null object\n",
      "Location                  509762 non-null object\n",
      "StadiumType               476828 non-null object\n",
      "Turf                      509762 non-null object\n",
      "GameWeather               466114 non-null object\n",
      "Temperature               461230 non-null float64\n",
      "Humidity                  503602 non-null float64\n",
      "WindSpeed                 442332 non-null object\n",
      "WindDirection             429528 non-null object\n",
      "dtypes: float64(10), int64(15), object(24)\n",
      "memory usage: 190.6+ MB\n"
     ]
    }
   ],
   "source": [
    "path1 = '/kaggle/input/nfl-big-data-bowl-2020/train.csv'\n",
    "path2 = '../input/nfl-big-data-bowl-2020/train.csv'\n",
    "if os.path.exists(path1):\n",
    "    df = pd.read_csv(path1)\n",
    "    TRAIN_OFFLINE = False\n",
    "\n",
    "else:\n",
    "    df = pd.read_csv(path2)\n",
    "    TRAIN_OFFLINE = True\n",
    "df.info()"
   ]
  },
  {
   "cell_type": "code",
   "execution_count": 32,
   "metadata": {
    "scrolled": true
   },
   "outputs": [
    {
     "data": {
      "text/html": [
       "<div>\n",
       "<style scoped>\n",
       "    .dataframe tbody tr th:only-of-type {\n",
       "        vertical-align: middle;\n",
       "    }\n",
       "\n",
       "    .dataframe tbody tr th {\n",
       "        vertical-align: top;\n",
       "    }\n",
       "\n",
       "    .dataframe thead th {\n",
       "        text-align: right;\n",
       "    }\n",
       "</style>\n",
       "<table border=\"1\" class=\"dataframe\">\n",
       "  <thead>\n",
       "    <tr style=\"text-align: right;\">\n",
       "      <th></th>\n",
       "      <th>GameId</th>\n",
       "      <th>PlayId</th>\n",
       "      <th>Team</th>\n",
       "      <th>X</th>\n",
       "      <th>Y</th>\n",
       "      <th>S</th>\n",
       "      <th>A</th>\n",
       "      <th>Dis</th>\n",
       "      <th>Orientation</th>\n",
       "      <th>Dir</th>\n",
       "      <th>NflId</th>\n",
       "      <th>DisplayName</th>\n",
       "      <th>JerseyNumber</th>\n",
       "      <th>Season</th>\n",
       "      <th>YardLine</th>\n",
       "      <th>Quarter</th>\n",
       "      <th>GameClock</th>\n",
       "      <th>PossessionTeam</th>\n",
       "      <th>Down</th>\n",
       "      <th>Distance</th>\n",
       "      <th>FieldPosition</th>\n",
       "      <th>HomeScoreBeforePlay</th>\n",
       "      <th>VisitorScoreBeforePlay</th>\n",
       "      <th>NflIdRusher</th>\n",
       "      <th>OffenseFormation</th>\n",
       "      <th>OffensePersonnel</th>\n",
       "      <th>DefendersInTheBox</th>\n",
       "      <th>DefensePersonnel</th>\n",
       "      <th>PlayDirection</th>\n",
       "      <th>TimeHandoff</th>\n",
       "      <th>TimeSnap</th>\n",
       "      <th>Yards</th>\n",
       "      <th>PlayerHeight</th>\n",
       "      <th>PlayerWeight</th>\n",
       "      <th>PlayerBirthDate</th>\n",
       "      <th>PlayerCollegeName</th>\n",
       "      <th>Position</th>\n",
       "      <th>HomeTeamAbbr</th>\n",
       "      <th>VisitorTeamAbbr</th>\n",
       "      <th>Week</th>\n",
       "      <th>Stadium</th>\n",
       "      <th>Location</th>\n",
       "      <th>StadiumType</th>\n",
       "      <th>Turf</th>\n",
       "      <th>GameWeather</th>\n",
       "      <th>Temperature</th>\n",
       "      <th>Humidity</th>\n",
       "      <th>WindSpeed</th>\n",
       "      <th>WindDirection</th>\n",
       "      <th>diffScoreBeforePlay</th>\n",
       "      <th>num_WR</th>\n",
       "      <th>DL_LB</th>\n",
       "      <th>SUB_DL_BL</th>\n",
       "      <th>num_DL</th>\n",
       "      <th>num_BL</th>\n",
       "      <th>PlayerHeight_dense</th>\n",
       "      <th>PlayerBMI</th>\n",
       "      <th>kg</th>\n",
       "      <th>True_Momentum</th>\n",
       "      <th>Force_Newtons</th>\n",
       "      <th>JerseyNumber_fix</th>\n",
       "      <th>back_scrim_away</th>\n",
       "      <th>back_scrim_home</th>\n",
       "    </tr>\n",
       "  </thead>\n",
       "  <tbody>\n",
       "    <tr>\n",
       "      <th>0</th>\n",
       "      <td>2017090700</td>\n",
       "      <td>20170907000118</td>\n",
       "      <td>away</td>\n",
       "      <td>46.09</td>\n",
       "      <td>34.84</td>\n",
       "      <td>1.69</td>\n",
       "      <td>1.13</td>\n",
       "      <td>0.40</td>\n",
       "      <td>81.99</td>\n",
       "      <td>177.18</td>\n",
       "      <td>496723</td>\n",
       "      <td>Eric Berry</td>\n",
       "      <td>29</td>\n",
       "      <td>2017</td>\n",
       "      <td>35</td>\n",
       "      <td>1</td>\n",
       "      <td>14:14:00</td>\n",
       "      <td>NE</td>\n",
       "      <td>3</td>\n",
       "      <td>2</td>\n",
       "      <td>NE</td>\n",
       "      <td>0</td>\n",
       "      <td>0</td>\n",
       "      <td>2543773</td>\n",
       "      <td>SHOTGUN</td>\n",
       "      <td>1 RB, 1 TE, 3 WR</td>\n",
       "      <td>6.0</td>\n",
       "      <td>2 DL, 3 LB, 6 DB</td>\n",
       "      <td>left</td>\n",
       "      <td>2017-09-08T00:44:06.000Z</td>\n",
       "      <td>2017-09-08T00:44:05.000Z</td>\n",
       "      <td>8</td>\n",
       "      <td>6-0</td>\n",
       "      <td>212</td>\n",
       "      <td>12/29/1988</td>\n",
       "      <td>Tennessee</td>\n",
       "      <td>SS</td>\n",
       "      <td>NE</td>\n",
       "      <td>KC</td>\n",
       "      <td>1</td>\n",
       "      <td>Gillette Stadium</td>\n",
       "      <td>Foxborough, MA</td>\n",
       "      <td>Outdoor</td>\n",
       "      <td>Field Turf</td>\n",
       "      <td>Clear and warm</td>\n",
       "      <td>63.0</td>\n",
       "      <td>77.0</td>\n",
       "      <td>8</td>\n",
       "      <td>SW</td>\n",
       "      <td>0</td>\n",
       "      <td>3</td>\n",
       "      <td>2-3</td>\n",
       "      <td>-1</td>\n",
       "      <td>2</td>\n",
       "      <td>2</td>\n",
       "      <td>72</td>\n",
       "      <td>28.749228</td>\n",
       "      <td>9.812406</td>\n",
       "      <td>15.163465</td>\n",
       "      <td>10.138885</td>\n",
       "      <td>29</td>\n",
       "      <td>-13.179091</td>\n",
       "      <td>-9.057273</td>\n",
       "    </tr>\n",
       "    <tr>\n",
       "      <th>1</th>\n",
       "      <td>2017090700</td>\n",
       "      <td>20170907000118</td>\n",
       "      <td>away</td>\n",
       "      <td>45.33</td>\n",
       "      <td>32.64</td>\n",
       "      <td>0.42</td>\n",
       "      <td>1.35</td>\n",
       "      <td>0.01</td>\n",
       "      <td>27.61</td>\n",
       "      <td>198.70</td>\n",
       "      <td>2495116</td>\n",
       "      <td>Allen Bailey</td>\n",
       "      <td>97</td>\n",
       "      <td>2017</td>\n",
       "      <td>35</td>\n",
       "      <td>1</td>\n",
       "      <td>14:14:00</td>\n",
       "      <td>NE</td>\n",
       "      <td>3</td>\n",
       "      <td>2</td>\n",
       "      <td>NE</td>\n",
       "      <td>0</td>\n",
       "      <td>0</td>\n",
       "      <td>2543773</td>\n",
       "      <td>SHOTGUN</td>\n",
       "      <td>1 RB, 1 TE, 3 WR</td>\n",
       "      <td>6.0</td>\n",
       "      <td>2 DL, 3 LB, 6 DB</td>\n",
       "      <td>left</td>\n",
       "      <td>2017-09-08T00:44:06.000Z</td>\n",
       "      <td>2017-09-08T00:44:05.000Z</td>\n",
       "      <td>8</td>\n",
       "      <td>6-3</td>\n",
       "      <td>288</td>\n",
       "      <td>03/25/1989</td>\n",
       "      <td>Miami</td>\n",
       "      <td>DE</td>\n",
       "      <td>NE</td>\n",
       "      <td>KC</td>\n",
       "      <td>1</td>\n",
       "      <td>Gillette Stadium</td>\n",
       "      <td>Foxborough, MA</td>\n",
       "      <td>Outdoor</td>\n",
       "      <td>Field Turf</td>\n",
       "      <td>Clear and warm</td>\n",
       "      <td>63.0</td>\n",
       "      <td>77.0</td>\n",
       "      <td>8</td>\n",
       "      <td>SW</td>\n",
       "      <td>0</td>\n",
       "      <td>3</td>\n",
       "      <td>2-3</td>\n",
       "      <td>-1</td>\n",
       "      <td>2</td>\n",
       "      <td>2</td>\n",
       "      <td>75</td>\n",
       "      <td>35.993600</td>\n",
       "      <td>13.330061</td>\n",
       "      <td>5.119383</td>\n",
       "      <td>16.455161</td>\n",
       "      <td>97</td>\n",
       "      <td>-13.179091</td>\n",
       "      <td>-9.057273</td>\n",
       "    </tr>\n",
       "    <tr>\n",
       "      <th>2</th>\n",
       "      <td>2017090700</td>\n",
       "      <td>20170907000118</td>\n",
       "      <td>away</td>\n",
       "      <td>46.00</td>\n",
       "      <td>33.20</td>\n",
       "      <td>1.22</td>\n",
       "      <td>0.59</td>\n",
       "      <td>0.31</td>\n",
       "      <td>3.01</td>\n",
       "      <td>202.73</td>\n",
       "      <td>2495493</td>\n",
       "      <td>Justin Houston</td>\n",
       "      <td>50</td>\n",
       "      <td>2017</td>\n",
       "      <td>35</td>\n",
       "      <td>1</td>\n",
       "      <td>14:14:00</td>\n",
       "      <td>NE</td>\n",
       "      <td>3</td>\n",
       "      <td>2</td>\n",
       "      <td>NE</td>\n",
       "      <td>0</td>\n",
       "      <td>0</td>\n",
       "      <td>2543773</td>\n",
       "      <td>SHOTGUN</td>\n",
       "      <td>1 RB, 1 TE, 3 WR</td>\n",
       "      <td>6.0</td>\n",
       "      <td>2 DL, 3 LB, 6 DB</td>\n",
       "      <td>left</td>\n",
       "      <td>2017-09-08T00:44:06.000Z</td>\n",
       "      <td>2017-09-08T00:44:05.000Z</td>\n",
       "      <td>8</td>\n",
       "      <td>6-3</td>\n",
       "      <td>270</td>\n",
       "      <td>01/21/1989</td>\n",
       "      <td>Georgia</td>\n",
       "      <td>DE</td>\n",
       "      <td>NE</td>\n",
       "      <td>KC</td>\n",
       "      <td>1</td>\n",
       "      <td>Gillette Stadium</td>\n",
       "      <td>Foxborough, MA</td>\n",
       "      <td>Outdoor</td>\n",
       "      <td>Field Turf</td>\n",
       "      <td>Clear and warm</td>\n",
       "      <td>63.0</td>\n",
       "      <td>77.0</td>\n",
       "      <td>8</td>\n",
       "      <td>SW</td>\n",
       "      <td>0</td>\n",
       "      <td>3</td>\n",
       "      <td>2-3</td>\n",
       "      <td>-1</td>\n",
       "      <td>2</td>\n",
       "      <td>2</td>\n",
       "      <td>75</td>\n",
       "      <td>33.744000</td>\n",
       "      <td>12.496933</td>\n",
       "      <td>13.941178</td>\n",
       "      <td>6.742045</td>\n",
       "      <td>50</td>\n",
       "      <td>-13.179091</td>\n",
       "      <td>-9.057273</td>\n",
       "    </tr>\n",
       "  </tbody>\n",
       "</table>\n",
       "</div>"
      ],
      "text/plain": [
       "       GameId          PlayId  Team      X      Y     S     A   Dis  \\\n",
       "0  2017090700  20170907000118  away  46.09  34.84  1.69  1.13  0.40   \n",
       "1  2017090700  20170907000118  away  45.33  32.64  0.42  1.35  0.01   \n",
       "2  2017090700  20170907000118  away  46.00  33.20  1.22  0.59  0.31   \n",
       "\n",
       "   Orientation     Dir    NflId     DisplayName  JerseyNumber  Season  \\\n",
       "0        81.99  177.18   496723      Eric Berry            29    2017   \n",
       "1        27.61  198.70  2495116    Allen Bailey            97    2017   \n",
       "2         3.01  202.73  2495493  Justin Houston            50    2017   \n",
       "\n",
       "   YardLine  Quarter GameClock PossessionTeam  Down  Distance FieldPosition  \\\n",
       "0        35        1  14:14:00             NE     3         2            NE   \n",
       "1        35        1  14:14:00             NE     3         2            NE   \n",
       "2        35        1  14:14:00             NE     3         2            NE   \n",
       "\n",
       "   HomeScoreBeforePlay  VisitorScoreBeforePlay  NflIdRusher OffenseFormation  \\\n",
       "0                    0                       0      2543773          SHOTGUN   \n",
       "1                    0                       0      2543773          SHOTGUN   \n",
       "2                    0                       0      2543773          SHOTGUN   \n",
       "\n",
       "   OffensePersonnel  DefendersInTheBox  DefensePersonnel PlayDirection  \\\n",
       "0  1 RB, 1 TE, 3 WR                6.0  2 DL, 3 LB, 6 DB          left   \n",
       "1  1 RB, 1 TE, 3 WR                6.0  2 DL, 3 LB, 6 DB          left   \n",
       "2  1 RB, 1 TE, 3 WR                6.0  2 DL, 3 LB, 6 DB          left   \n",
       "\n",
       "                TimeHandoff                  TimeSnap  Yards PlayerHeight  \\\n",
       "0  2017-09-08T00:44:06.000Z  2017-09-08T00:44:05.000Z      8          6-0   \n",
       "1  2017-09-08T00:44:06.000Z  2017-09-08T00:44:05.000Z      8          6-3   \n",
       "2  2017-09-08T00:44:06.000Z  2017-09-08T00:44:05.000Z      8          6-3   \n",
       "\n",
       "   PlayerWeight PlayerBirthDate PlayerCollegeName Position HomeTeamAbbr  \\\n",
       "0           212      12/29/1988         Tennessee       SS           NE   \n",
       "1           288      03/25/1989             Miami       DE           NE   \n",
       "2           270      01/21/1989           Georgia       DE           NE   \n",
       "\n",
       "  VisitorTeamAbbr  Week           Stadium        Location StadiumType  \\\n",
       "0              KC     1  Gillette Stadium  Foxborough, MA     Outdoor   \n",
       "1              KC     1  Gillette Stadium  Foxborough, MA     Outdoor   \n",
       "2              KC     1  Gillette Stadium  Foxborough, MA     Outdoor   \n",
       "\n",
       "         Turf     GameWeather  Temperature  Humidity WindSpeed WindDirection  \\\n",
       "0  Field Turf  Clear and warm         63.0      77.0         8            SW   \n",
       "1  Field Turf  Clear and warm         63.0      77.0         8            SW   \n",
       "2  Field Turf  Clear and warm         63.0      77.0         8            SW   \n",
       "\n",
       "   diffScoreBeforePlay  num_WR DL_LB  SUB_DL_BL  num_DL  num_BL  \\\n",
       "0                    0       3   2-3         -1       2       2   \n",
       "1                    0       3   2-3         -1       2       2   \n",
       "2                    0       3   2-3         -1       2       2   \n",
       "\n",
       "   PlayerHeight_dense  PlayerBMI         kg  True_Momentum  Force_Newtons  \\\n",
       "0                  72  28.749228   9.812406      15.163465      10.138885   \n",
       "1                  75  35.993600  13.330061       5.119383      16.455161   \n",
       "2                  75  33.744000  12.496933      13.941178       6.742045   \n",
       "\n",
       "   JerseyNumber_fix  back_scrim_away  back_scrim_home  \n",
       "0                29       -13.179091        -9.057273  \n",
       "1                97       -13.179091        -9.057273  \n",
       "2                50       -13.179091        -9.057273  "
      ]
     },
     "execution_count": 32,
     "metadata": {},
     "output_type": "execute_result"
    }
   ],
   "source": [
    "df.head(3)"
   ]
  },
  {
   "cell_type": "code",
   "execution_count": 7,
   "metadata": {},
   "outputs": [
    {
     "data": {
      "text/html": [
       "<div>\n",
       "<style scoped>\n",
       "    .dataframe tbody tr th:only-of-type {\n",
       "        vertical-align: middle;\n",
       "    }\n",
       "\n",
       "    .dataframe tbody tr th {\n",
       "        vertical-align: top;\n",
       "    }\n",
       "\n",
       "    .dataframe thead th {\n",
       "        text-align: right;\n",
       "    }\n",
       "</style>\n",
       "<table border=\"1\" class=\"dataframe\">\n",
       "  <thead>\n",
       "    <tr style=\"text-align: right;\">\n",
       "      <th></th>\n",
       "      <th>diffScoreBeforePlay</th>\n",
       "      <th>Yards</th>\n",
       "    </tr>\n",
       "  </thead>\n",
       "  <tbody>\n",
       "    <tr>\n",
       "      <th>diffScoreBeforePlay</th>\n",
       "      <td>1.000000</td>\n",
       "      <td>-0.012502</td>\n",
       "    </tr>\n",
       "    <tr>\n",
       "      <th>Yards</th>\n",
       "      <td>-0.012502</td>\n",
       "      <td>1.000000</td>\n",
       "    </tr>\n",
       "  </tbody>\n",
       "</table>\n",
       "</div>"
      ],
      "text/plain": [
       "                     diffScoreBeforePlay     Yards\n",
       "diffScoreBeforePlay             1.000000 -0.012502\n",
       "Yards                          -0.012502  1.000000"
      ]
     },
     "execution_count": 7,
     "metadata": {},
     "output_type": "execute_result"
    }
   ],
   "source": [
    "df[\"diffScoreBeforePlay\"] = df[\"HomeScoreBeforePlay\"] - df[\"VisitorScoreBeforePlay\"]\n",
    "df[df['NflId']==df['NflIdRusher']][['diffScoreBeforePlay', 'Yards']].corr()"
   ]
  },
  {
   "cell_type": "markdown",
   "metadata": {},
   "source": [
    "# OffenseFormation"
   ]
  },
  {
   "cell_type": "code",
   "execution_count": 36,
   "metadata": {},
   "outputs": [
    {
     "data": {
      "text/plain": [
       "RB    21628\n",
       "WR      638\n",
       "HB      616\n",
       "FB      169\n",
       "QB       77\n",
       "TE       31\n",
       "CB        9\n",
       "DT        2\n",
       "DE        1\n",
       "Name: Position, dtype: int64"
      ]
     },
     "execution_count": 36,
     "metadata": {},
     "output_type": "execute_result"
    }
   ],
   "source": [
    "df[df['NflId']==df['NflIdRusher']]['Position'].value_counts()"
   ]
  },
  {
   "cell_type": "code",
   "execution_count": 8,
   "metadata": {},
   "outputs": [
    {
     "data": {
      "text/plain": [
       "OffenseFormation\n",
       "unknown       0.836660\n",
       "WILDCAT       4.034229\n",
       "JUMBO         5.526517\n",
       "PISTOL        5.545409\n",
       "EMPTY         5.803434\n",
       "SHOTGUN       6.085829\n",
       "I_FORM        6.551639\n",
       "SINGLEBACK    6.687501\n",
       "ACE                NaN\n",
       "Name: Yards, dtype: float64"
      ]
     },
     "execution_count": 8,
     "metadata": {},
     "output_type": "execute_result"
    }
   ],
   "source": [
    "tmp = df[df['NflId'] == df['NflIdRusher']][['OffenseFormation', 'Yards']]\n",
    "tmp['OffenseFormation'] = tmp['OffenseFormation'].fillna('unknown')\n",
    "tmp.groupby(['OffenseFormation']).Yards.std().sort_values()"
   ]
  },
  {
   "cell_type": "code",
   "execution_count": 9,
   "metadata": {},
   "outputs": [
    {
     "data": {
      "text/plain": [
       "{'ACE': 4.0,\n",
       " 'EMPTY': 5.04347826,\n",
       " 'I_FORM': 4.02240199,\n",
       " 'JUMBO': 1.756238,\n",
       " 'PISTOL': 4.29836066,\n",
       " 'SHOTGUN': 4.50816089,\n",
       " 'SINGLEBACK': 4.22211379,\n",
       " 'WILDCAT': 4.22222222,\n",
       " 'unknown': 2.8}"
      ]
     },
     "execution_count": 9,
     "metadata": {},
     "output_type": "execute_result"
    }
   ],
   "source": [
    "key = ['JUMBO', 'unknown', 'ACE', 'I_FORM', 'SINGLEBACK', 'WILDCAT', 'PISTOL',\n",
    "       'SHOTGUN', 'EMPTY']\n",
    "val = [1.756238  , 2.8       , 4.        , 4.02240199, 4.22211379,\n",
    "       4.22222222, 4.29836066, 4.50816089, 5.04347826]\n",
    "dict(zip(key, val))"
   ]
  },
  {
   "cell_type": "markdown",
   "metadata": {},
   "source": [
    "# Offense/Defense Personnel"
   ]
  },
  {
   "cell_type": "code",
   "execution_count": 10,
   "metadata": {},
   "outputs": [
    {
     "data": {
      "text/html": [
       "<div>\n",
       "<style scoped>\n",
       "    .dataframe tbody tr th:only-of-type {\n",
       "        vertical-align: middle;\n",
       "    }\n",
       "\n",
       "    .dataframe tbody tr th {\n",
       "        vertical-align: top;\n",
       "    }\n",
       "\n",
       "    .dataframe thead th {\n",
       "        text-align: right;\n",
       "    }\n",
       "</style>\n",
       "<table border=\"1\" class=\"dataframe\">\n",
       "  <thead>\n",
       "    <tr style=\"text-align: right;\">\n",
       "      <th></th>\n",
       "      <th>num_WR</th>\n",
       "      <th>Yards</th>\n",
       "    </tr>\n",
       "  </thead>\n",
       "  <tbody>\n",
       "    <tr>\n",
       "      <th>num_WR</th>\n",
       "      <td>1.000000</td>\n",
       "      <td>0.064406</td>\n",
       "    </tr>\n",
       "    <tr>\n",
       "      <th>Yards</th>\n",
       "      <td>0.064406</td>\n",
       "      <td>1.000000</td>\n",
       "    </tr>\n",
       "  </tbody>\n",
       "</table>\n",
       "</div>"
      ],
      "text/plain": [
       "          num_WR     Yards\n",
       "num_WR  1.000000  0.064406\n",
       "Yards   0.064406  1.000000"
      ]
     },
     "execution_count": 10,
     "metadata": {},
     "output_type": "execute_result"
    }
   ],
   "source": [
    "def get_num_offense(row):\n",
    "    splits = row.split(', ')\n",
    "    cnt = 0\n",
    "    for s in splits:\n",
    "        if 'WR' in s:\n",
    "            return int(s[0])\n",
    "    return 0\n",
    "df['num_WR'] = df['OffensePersonnel'].apply(get_num_offense)\n",
    "df[df['NflId']==df['NflIdRusher']][['num_WR', 'Yards']].corr()"
   ]
  },
  {
   "cell_type": "code",
   "execution_count": 37,
   "metadata": {
    "scrolled": true
   },
   "outputs": [
    {
     "data": {
      "text/plain": [
       "<bound method Series.sort_values of SUB_DL_BL\n",
       "-6    4.000000\n",
       "-5    4.166667\n",
       "-4    4.857143\n",
       "-3    4.643678\n",
       "-2    4.405618\n",
       "-1    4.033866\n",
       " 0    4.280355\n",
       " 1    3.953052\n",
       " 2    4.455588\n",
       " 3    4.694888\n",
       " 4    1.473684\n",
       " 5    0.500000\n",
       "Name: Yards, dtype: float64>"
      ]
     },
     "execution_count": 37,
     "metadata": {},
     "output_type": "execute_result"
    }
   ],
   "source": [
    "# Create the DL-LB combos\n",
    "df['DL_LB'] = df['DefensePersonnel'] \\\n",
    "    .str[:10] \\\n",
    "    .str.replace(' DL, ','-') \\\n",
    "    .str.replace(' LB','') # Clean up and convert to DL-LB combo\n",
    "df['SUB_DL_BL'] = df['DL_LB'].apply(lambda x: int(x.split('-')[0]) - int(x.split('-')[1]))\n",
    "df.groupby(['SUB_DL_BL']).Yards.mean().sort_values"
   ]
  },
  {
   "cell_type": "code",
   "execution_count": 47,
   "metadata": {},
   "outputs": [
    {
     "data": {
      "text/plain": [
       "num_DL\n",
       "6    0.323529\n",
       "7    1.000000\n",
       "5    2.776316\n",
       "3    4.163305\n",
       "4    4.233653\n",
       "2    4.522345\n",
       "1    5.163636\n",
       "0    5.416667\n",
       "Name: Yards, dtype: float64"
      ]
     },
     "execution_count": 47,
     "metadata": {},
     "output_type": "execute_result"
    }
   ],
   "source": [
    "df['num_DL'] = df['DL_LB'].apply(lambda x: x.split('-')[0]).astype(int)\n",
    "df[df['NflId']==df['NflIdRusher']].groupby(['num_DL']).Yards.mean().sort_values()"
   ]
  },
  {
   "cell_type": "code",
   "execution_count": 48,
   "metadata": {
    "scrolled": true
   },
   "outputs": [
    {
     "data": {
      "text/plain": [
       "num_BL\n",
       "6    0.323529\n",
       "7    1.000000\n",
       "5    2.776316\n",
       "3    4.163305\n",
       "4    4.233653\n",
       "2    4.522345\n",
       "1    5.163636\n",
       "0    5.416667\n",
       "Name: Yards, dtype: float64"
      ]
     },
     "execution_count": 48,
     "metadata": {},
     "output_type": "execute_result"
    }
   ],
   "source": [
    "df['num_BL'] = df['DL_LB'].apply(lambda x: x.split('-')[0]).astype(int)\n",
    "df[df['NflId']==df['NflIdRusher']].groupby(['num_BL']).Yards.mean().sort_values()"
   ]
  },
  {
   "cell_type": "markdown",
   "metadata": {},
   "source": [
    "# DefendersInTheBox"
   ]
  },
  {
   "cell_type": "code",
   "execution_count": 18,
   "metadata": {},
   "outputs": [
    {
     "data": {
      "text/html": [
       "<div>\n",
       "<style scoped>\n",
       "    .dataframe tbody tr th:only-of-type {\n",
       "        vertical-align: middle;\n",
       "    }\n",
       "\n",
       "    .dataframe tbody tr th {\n",
       "        vertical-align: top;\n",
       "    }\n",
       "\n",
       "    .dataframe thead th {\n",
       "        text-align: right;\n",
       "    }\n",
       "</style>\n",
       "<table border=\"1\" class=\"dataframe\">\n",
       "  <thead>\n",
       "    <tr style=\"text-align: right;\">\n",
       "      <th></th>\n",
       "      <th>Yards</th>\n",
       "    </tr>\n",
       "    <tr>\n",
       "      <th>DefendersInTheBox</th>\n",
       "      <th></th>\n",
       "    </tr>\n",
       "  </thead>\n",
       "  <tbody>\n",
       "    <tr>\n",
       "      <th>2.0</th>\n",
       "      <td>15.500000</td>\n",
       "    </tr>\n",
       "    <tr>\n",
       "      <th>3.0</th>\n",
       "      <td>10.611111</td>\n",
       "    </tr>\n",
       "    <tr>\n",
       "      <th>4.0</th>\n",
       "      <td>7.347458</td>\n",
       "    </tr>\n",
       "    <tr>\n",
       "      <th>5.0</th>\n",
       "      <td>5.826023</td>\n",
       "    </tr>\n",
       "    <tr>\n",
       "      <th>6.0</th>\n",
       "      <td>4.694505</td>\n",
       "    </tr>\n",
       "    <tr>\n",
       "      <th>7.0</th>\n",
       "      <td>4.212492</td>\n",
       "    </tr>\n",
       "    <tr>\n",
       "      <th>8.0</th>\n",
       "      <td>3.638302</td>\n",
       "    </tr>\n",
       "    <tr>\n",
       "      <th>9.0</th>\n",
       "      <td>2.821604</td>\n",
       "    </tr>\n",
       "    <tr>\n",
       "      <th>10.0</th>\n",
       "      <td>0.796791</td>\n",
       "    </tr>\n",
       "    <tr>\n",
       "      <th>11.0</th>\n",
       "      <td>0.542169</td>\n",
       "    </tr>\n",
       "  </tbody>\n",
       "</table>\n",
       "</div>"
      ],
      "text/plain": [
       "                       Yards\n",
       "DefendersInTheBox           \n",
       "2.0                15.500000\n",
       "3.0                10.611111\n",
       "4.0                 7.347458\n",
       "5.0                 5.826023\n",
       "6.0                 4.694505\n",
       "7.0                 4.212492\n",
       "8.0                 3.638302\n",
       "9.0                 2.821604\n",
       "10.0                0.796791\n",
       "11.0                0.542169"
      ]
     },
     "execution_count": 18,
     "metadata": {},
     "output_type": "execute_result"
    }
   ],
   "source": [
    "df['DefendersInTheBox'] = df['DefendersInTheBox'].apply(lambda x: 2.0 if x == 1.0 else x)\n",
    "defense_df = df.groupby(['DefendersInTheBox']).aggregate({'Yards': 'mean'})\n",
    "defense_df"
   ]
  },
  {
   "cell_type": "markdown",
   "metadata": {},
   "source": [
    "# Height/Weight"
   ]
  },
  {
   "cell_type": "code",
   "execution_count": 43,
   "metadata": {},
   "outputs": [],
   "source": [
    "df['PlayerHeight_dense'] = df['PlayerHeight'].apply(lambda x: 12*int(x.split('-')[0])+int(x.split('-')[1]))\n",
    "df['PlayerBMI'] = 703*(df['PlayerWeight']/(df['PlayerHeight_dense'])**2)"
   ]
  },
  {
   "cell_type": "code",
   "execution_count": 44,
   "metadata": {},
   "outputs": [],
   "source": [
    "df['kg']=df[\"PlayerWeight\"] * 0.45359237 / 9.8\n",
    "# the momentum is just mass (in kg) X speed in m/s (so convert from yards/sec to mps)\n",
    "df['True_Momentum']=df['kg'] * df['S'] * 0.9144 \n",
    "df['Force_Newtons']=df['kg'] * df['A'] * 0.9144"
   ]
  },
  {
   "cell_type": "code",
   "execution_count": 55,
   "metadata": {
    "scrolled": true
   },
   "outputs": [
    {
     "data": {
      "text/plain": [
       "<matplotlib.axes._subplots.AxesSubplot at 0x7f573142aba8>"
      ]
     },
     "execution_count": 55,
     "metadata": {},
     "output_type": "execute_result"
    },
    {
     "data": {
      "image/png": "[encoded data removed]",
      "text/plain": [
       "<Figure size 432x288 with 1 Axes>"
      ]
     },
     "metadata": {
      "needs_background": "light"
     },
     "output_type": "display_data"
    }
   ],
   "source": [
    "df['True_Momentum_int'] = df['True_Momentum'].astype(int)\n",
    "df[df['NflId']==df['NflIdRusher']].groupby(['True_Momentum_int']).Yards.mean().plot()"
   ]
  },
  {
   "cell_type": "code",
   "execution_count": 54,
   "metadata": {},
   "outputs": [
    {
     "data": {
      "text/plain": [
       "<matplotlib.axes._subplots.AxesSubplot at 0x7f5717cae3c8>"
      ]
     },
     "execution_count": 54,
     "metadata": {},
     "output_type": "execute_result"
    },
    {
     "data": {
      "image/png": "[encoded data removed]",
      "text/plain": [
       "<Figure size 432x288 with 1 Axes>"
      ]
     },
     "metadata": {
      "needs_background": "light"
     },
     "output_type": "display_data"
    }
   ],
   "source": [
    "df['Force_Newtons_int'] = df['Force_Newtons'].astype(int)\n",
    "df[df['NflId']==df['NflIdRusher']].groupby(['Force_Newtons_int']).Yards.mean().plot()\n",
    "#maybe don't useful"
   ]
  },
  {
   "cell_type": "markdown",
   "metadata": {},
   "source": [
    "# JerseyNumber"
   ]
  },
  {
   "cell_type": "code",
   "execution_count": 22,
   "metadata": {
    "scrolled": true
   },
   "outputs": [
    {
     "data": {
      "text/plain": [
       "21    11158\n",
       "23    10072\n",
       "90     9164\n",
       "26     9115\n",
       "24     8899\n",
       "77     8630\n",
       "98     8613\n",
       "94     8375\n",
       "71     8205\n",
       "93     8023\n",
       "22     8010\n",
       "20     7944\n",
       "97     7819\n",
       "99     7755\n",
       "25     7626\n",
       "54     7589\n",
       "73     7481\n",
       "11     7442\n",
       "75     7358\n",
       "10     7303\n",
       "76     7237\n",
       "55     7218\n",
       "72     7199\n",
       "29     7064\n",
       "27     7057\n",
       "65     7038\n",
       "70     6828\n",
       "74     6805\n",
       "95     6717\n",
       "91     6685\n",
       "      ...  \n",
       "38     3926\n",
       "42     3903\n",
       "83     3566\n",
       "19     3560\n",
       "36     3447\n",
       "15     3396\n",
       "34     3263\n",
       "44     3172\n",
       "86     3121\n",
       "16     3105\n",
       "37     2961\n",
       "43     2930\n",
       "48     2731\n",
       "47     2596\n",
       "4      2546\n",
       "35     2392\n",
       "39     2277\n",
       "7      2252\n",
       "3      2147\n",
       "63     2117\n",
       "8      1949\n",
       "5      1881\n",
       "9      1820\n",
       "40     1612\n",
       "45     1608\n",
       "46     1156\n",
       "49     1112\n",
       "2       997\n",
       "6       810\n",
       "1       592\n",
       "Name: JerseyNumber, Length: 99, dtype: int64"
      ]
     },
     "execution_count": 22,
     "metadata": {},
     "output_type": "execute_result"
    }
   ],
   "source": [
    "df['JerseyNumber'].value_counts()"
   ]
  },
  {
   "cell_type": "code",
   "execution_count": 23,
   "metadata": {},
   "outputs": [
    {
     "data": {
      "text/plain": [
       "<matplotlib.axes._subplots.AxesSubplot at 0x7f571612fda0>"
      ]
     },
     "execution_count": 23,
     "metadata": {},
     "output_type": "execute_result"
    },
    {
     "data": {
      "image/png": "[encoded data removed]",
      "text/plain": [
       "<Figure size 432x288 with 1 Axes>"
      ]
     },
     "metadata": {
      "needs_background": "light"
     },
     "output_type": "display_data"
    }
   ],
   "source": [
    "df.groupby(['JerseyNumber']).Yards.mean().plot()"
   ]
  },
  {
   "cell_type": "code",
   "execution_count": 24,
   "metadata": {},
   "outputs": [
    {
     "data": {
      "image/png": "[encoded data removed]",
      "text/plain": [
       "<Figure size 432x288 with 1 Axes>"
      ]
     },
     "metadata": {
      "needs_background": "light"
     },
     "output_type": "display_data"
    }
   ],
   "source": [
    "df['JerseyNumber'] = df['JerseyNumber'].fillna(-999)\n",
    "df['JerseyNumber_fix'] = df['JerseyNumber']\n",
    "data = df[df['NflId']==df['NflIdRusher']].groupby(['JerseyNumber_fix']).PlayerWeight.mean().plot()"
   ]
  },
  {
   "cell_type": "code",
   "execution_count": 25,
   "metadata": {},
   "outputs": [
    {
     "data": {
      "text/html": [
       "<div>\n",
       "<style scoped>\n",
       "    .dataframe tbody tr th:only-of-type {\n",
       "        vertical-align: middle;\n",
       "    }\n",
       "\n",
       "    .dataframe tbody tr th {\n",
       "        vertical-align: top;\n",
       "    }\n",
       "\n",
       "    .dataframe thead th {\n",
       "        text-align: right;\n",
       "    }\n",
       "</style>\n",
       "<table border=\"1\" class=\"dataframe\">\n",
       "  <thead>\n",
       "    <tr style=\"text-align: right;\">\n",
       "      <th></th>\n",
       "      <th>Yards</th>\n",
       "      <th>PlayerBMI</th>\n",
       "      <th>PlayerHeight_dense</th>\n",
       "      <th>PlayerWeight</th>\n",
       "      <th>JerseyNumber</th>\n",
       "    </tr>\n",
       "  </thead>\n",
       "  <tbody>\n",
       "    <tr>\n",
       "      <th>Yards</th>\n",
       "      <td>1.000000</td>\n",
       "      <td>-0.008167</td>\n",
       "      <td>-0.007857</td>\n",
       "      <td>-0.008862</td>\n",
       "      <td>-0.008038</td>\n",
       "    </tr>\n",
       "    <tr>\n",
       "      <th>PlayerBMI</th>\n",
       "      <td>-0.008167</td>\n",
       "      <td>1.000000</td>\n",
       "      <td>0.473257</td>\n",
       "      <td>0.949165</td>\n",
       "      <td>0.694086</td>\n",
       "    </tr>\n",
       "    <tr>\n",
       "      <th>PlayerHeight_dense</th>\n",
       "      <td>-0.007857</td>\n",
       "      <td>0.473257</td>\n",
       "      <td>1.000000</td>\n",
       "      <td>0.723726</td>\n",
       "      <td>0.567839</td>\n",
       "    </tr>\n",
       "    <tr>\n",
       "      <th>PlayerWeight</th>\n",
       "      <td>-0.008862</td>\n",
       "      <td>0.949165</td>\n",
       "      <td>0.723726</td>\n",
       "      <td>1.000000</td>\n",
       "      <td>0.739988</td>\n",
       "    </tr>\n",
       "    <tr>\n",
       "      <th>JerseyNumber</th>\n",
       "      <td>-0.008038</td>\n",
       "      <td>0.694086</td>\n",
       "      <td>0.567839</td>\n",
       "      <td>0.739988</td>\n",
       "      <td>1.000000</td>\n",
       "    </tr>\n",
       "  </tbody>\n",
       "</table>\n",
       "</div>"
      ],
      "text/plain": [
       "                       Yards  PlayerBMI  PlayerHeight_dense  PlayerWeight  \\\n",
       "Yards               1.000000  -0.008167           -0.007857     -0.008862   \n",
       "PlayerBMI          -0.008167   1.000000            0.473257      0.949165   \n",
       "PlayerHeight_dense -0.007857   0.473257            1.000000      0.723726   \n",
       "PlayerWeight       -0.008862   0.949165            0.723726      1.000000   \n",
       "JerseyNumber       -0.008038   0.694086            0.567839      0.739988   \n",
       "\n",
       "                    JerseyNumber  \n",
       "Yards                  -0.008038  \n",
       "PlayerBMI               0.694086  \n",
       "PlayerHeight_dense      0.567839  \n",
       "PlayerWeight            0.739988  \n",
       "JerseyNumber            1.000000  "
      ]
     },
     "execution_count": 25,
     "metadata": {},
     "output_type": "execute_result"
    }
   ],
   "source": [
    "df[['Yards', 'PlayerBMI', 'PlayerHeight_dense', 'PlayerWeight', 'JerseyNumber']].corr()"
   ]
  },
  {
   "cell_type": "code",
   "execution_count": 26,
   "metadata": {},
   "outputs": [
    {
     "data": {
      "text/plain": [
       "Position\n",
       "DE    0.000000\n",
       "DT    1.000000\n",
       "QB    2.363636\n",
       "FB    3.041420\n",
       "RB    4.172739\n",
       "TE    4.258065\n",
       "HB    4.318182\n",
       "WR    5.921630\n",
       "CB    9.777778\n",
       "Name: Yards, dtype: float64"
      ]
     },
     "execution_count": 26,
     "metadata": {},
     "output_type": "execute_result"
    }
   ],
   "source": [
    "df[df['NflId']==df['NflIdRusher']].groupby(['Position']).Yards.mean().sort_values()"
   ]
  },
  {
   "cell_type": "code",
   "execution_count": 27,
   "metadata": {},
   "outputs": [
    {
     "data": {
      "text/plain": [
       "<matplotlib.axes._subplots.AxesSubplot at 0x7f572b9d6dd8>"
      ]
     },
     "execution_count": 27,
     "metadata": {},
     "output_type": "execute_result"
    },
    {
     "data": {
      "image/png": "[encoded data removed]",
      "text/plain": [
       "<Figure size 432x288 with 1 Axes>"
      ]
     },
     "metadata": {
      "needs_background": "light"
     },
     "output_type": "display_data"
    }
   ],
   "source": [
    "sns.distplot(df['Y'].astype(int))"
   ]
  },
  {
   "cell_type": "code",
   "execution_count": 28,
   "metadata": {},
   "outputs": [
    {
     "data": {
      "text/plain": [
       "<matplotlib.axes._subplots.AxesSubplot at 0x7f5731512e80>"
      ]
     },
     "execution_count": 28,
     "metadata": {},
     "output_type": "execute_result"
    },
    {
     "data": {
      "image/png": "[encoded data removed]",
      "text/plain": [
       "<Figure size 432x288 with 1 Axes>"
      ]
     },
     "metadata": {
      "needs_background": "light"
     },
     "output_type": "display_data"
    }
   ],
   "source": [
    "sns.distplot(df['X'].astype(int))"
   ]
  },
  {
   "cell_type": "code",
   "execution_count": 29,
   "metadata": {},
   "outputs": [],
   "source": [
    "rusher = df[df['NflId'] == df['NflIdRusher']][['GameId', 'PlayId', 'Team']]\n",
    "rusher.columns = ['GameId', 'PlayId', 'RusherTeam']\n",
    "tmp = pd.merge(df[['GameId', 'PlayId', 'Team', 'X', 'YardLine']], rusher, on=['GameId', 'PlayId'], how='left')\n",
    "tmp['back_scrim'] = tmp['YardLine'] - tmp['X']\n",
    "tmp_away = tmp[tmp['Team'] != tmp['RusherTeam']].groupby(['GameId', 'PlayId'])['back_scrim'].mean().reset_index()\n",
    "tmp_away.columns = ['GameId', 'PlayId', 'back_scrim_away']\n",
    "df = pd.merge(df, tmp_away, on=['GameId', 'PlayId'], how='left')\n",
    "tmp_home = tmp[tmp['Team'] == tmp['RusherTeam']].groupby(['GameId', 'PlayId'])['back_scrim'].mean().reset_index()\n",
    "tmp_home.columns = ['GameId', 'PlayId', 'back_scrim_home']\n",
    "df = pd.merge(df, tmp_home, on=['GameId', 'PlayId'], how='left')\n",
    "    "
   ]
  },
  {
   "cell_type": "code",
   "execution_count": 30,
   "metadata": {},
   "outputs": [
    {
     "data": {
      "text/plain": [
       "back_scrim_away    0.103173\n",
       "back_scrim_home    0.106263\n",
       "A                  0.158868\n",
       "Yards              1.000000\n",
       "S                  0.084061\n",
       "Name: Yards, dtype: float64"
      ]
     },
     "execution_count": 30,
     "metadata": {},
     "output_type": "execute_result"
    }
   ],
   "source": [
    "df[df['NflId']==df['NflIdRusher']][['back_scrim_away', 'back_scrim_home', 'A', 'Yards', 'S']].corr()['Yards']"
   ]
  },
  {
   "cell_type": "code",
   "execution_count": 31,
   "metadata": {},
   "outputs": [
    {
     "data": {
      "text/html": [
       "<div>\n",
       "<style scoped>\n",
       "    .dataframe tbody tr th:only-of-type {\n",
       "        vertical-align: middle;\n",
       "    }\n",
       "\n",
       "    .dataframe tbody tr th {\n",
       "        vertical-align: top;\n",
       "    }\n",
       "\n",
       "    .dataframe thead th {\n",
       "        text-align: right;\n",
       "    }\n",
       "</style>\n",
       "<table border=\"1\" class=\"dataframe\">\n",
       "  <thead>\n",
       "    <tr style=\"text-align: right;\">\n",
       "      <th></th>\n",
       "      <th>GameId</th>\n",
       "      <th>PlayId</th>\n",
       "      <th>Team</th>\n",
       "      <th>X</th>\n",
       "      <th>Y</th>\n",
       "      <th>S</th>\n",
       "      <th>A</th>\n",
       "      <th>Dis</th>\n",
       "      <th>Orientation</th>\n",
       "      <th>Dir</th>\n",
       "      <th>NflId</th>\n",
       "      <th>DisplayName</th>\n",
       "      <th>JerseyNumber</th>\n",
       "      <th>Season</th>\n",
       "      <th>YardLine</th>\n",
       "      <th>Quarter</th>\n",
       "      <th>GameClock</th>\n",
       "      <th>PossessionTeam</th>\n",
       "      <th>Down</th>\n",
       "      <th>Distance</th>\n",
       "      <th>FieldPosition</th>\n",
       "      <th>HomeScoreBeforePlay</th>\n",
       "      <th>VisitorScoreBeforePlay</th>\n",
       "      <th>NflIdRusher</th>\n",
       "      <th>OffenseFormation</th>\n",
       "      <th>OffensePersonnel</th>\n",
       "      <th>DefendersInTheBox</th>\n",
       "      <th>DefensePersonnel</th>\n",
       "      <th>PlayDirection</th>\n",
       "      <th>TimeHandoff</th>\n",
       "      <th>TimeSnap</th>\n",
       "      <th>Yards</th>\n",
       "      <th>PlayerHeight</th>\n",
       "      <th>PlayerWeight</th>\n",
       "      <th>PlayerBirthDate</th>\n",
       "      <th>PlayerCollegeName</th>\n",
       "      <th>Position</th>\n",
       "      <th>HomeTeamAbbr</th>\n",
       "      <th>VisitorTeamAbbr</th>\n",
       "      <th>Week</th>\n",
       "      <th>Stadium</th>\n",
       "      <th>Location</th>\n",
       "      <th>StadiumType</th>\n",
       "      <th>Turf</th>\n",
       "      <th>GameWeather</th>\n",
       "      <th>Temperature</th>\n",
       "      <th>Humidity</th>\n",
       "      <th>WindSpeed</th>\n",
       "      <th>WindDirection</th>\n",
       "      <th>diffScoreBeforePlay</th>\n",
       "      <th>num_WR</th>\n",
       "      <th>DL_LB</th>\n",
       "      <th>SUB_DL_BL</th>\n",
       "      <th>num_DL</th>\n",
       "      <th>num_BL</th>\n",
       "      <th>PlayerHeight_dense</th>\n",
       "      <th>PlayerBMI</th>\n",
       "      <th>kg</th>\n",
       "      <th>True_Momentum</th>\n",
       "      <th>Force_Newtons</th>\n",
       "      <th>JerseyNumber_fix</th>\n",
       "      <th>back_scrim_away</th>\n",
       "      <th>back_scrim_home</th>\n",
       "    </tr>\n",
       "  </thead>\n",
       "  <tbody>\n",
       "    <tr>\n",
       "      <th>0</th>\n",
       "      <td>2017090700</td>\n",
       "      <td>20170907000118</td>\n",
       "      <td>away</td>\n",
       "      <td>46.09</td>\n",
       "      <td>34.84</td>\n",
       "      <td>1.69</td>\n",
       "      <td>1.13</td>\n",
       "      <td>0.40</td>\n",
       "      <td>81.99</td>\n",
       "      <td>177.18</td>\n",
       "      <td>496723</td>\n",
       "      <td>Eric Berry</td>\n",
       "      <td>29</td>\n",
       "      <td>2017</td>\n",
       "      <td>35</td>\n",
       "      <td>1</td>\n",
       "      <td>14:14:00</td>\n",
       "      <td>NE</td>\n",
       "      <td>3</td>\n",
       "      <td>2</td>\n",
       "      <td>NE</td>\n",
       "      <td>0</td>\n",
       "      <td>0</td>\n",
       "      <td>2543773</td>\n",
       "      <td>SHOTGUN</td>\n",
       "      <td>1 RB, 1 TE, 3 WR</td>\n",
       "      <td>6.0</td>\n",
       "      <td>2 DL, 3 LB, 6 DB</td>\n",
       "      <td>left</td>\n",
       "      <td>2017-09-08T00:44:06.000Z</td>\n",
       "      <td>2017-09-08T00:44:05.000Z</td>\n",
       "      <td>8</td>\n",
       "      <td>6-0</td>\n",
       "      <td>212</td>\n",
       "      <td>12/29/1988</td>\n",
       "      <td>Tennessee</td>\n",
       "      <td>SS</td>\n",
       "      <td>NE</td>\n",
       "      <td>KC</td>\n",
       "      <td>1</td>\n",
       "      <td>Gillette Stadium</td>\n",
       "      <td>Foxborough, MA</td>\n",
       "      <td>Outdoor</td>\n",
       "      <td>Field Turf</td>\n",
       "      <td>Clear and warm</td>\n",
       "      <td>63.0</td>\n",
       "      <td>77.0</td>\n",
       "      <td>8</td>\n",
       "      <td>SW</td>\n",
       "      <td>0</td>\n",
       "      <td>3</td>\n",
       "      <td>2-3</td>\n",
       "      <td>-1</td>\n",
       "      <td>2</td>\n",
       "      <td>2</td>\n",
       "      <td>72</td>\n",
       "      <td>28.749228</td>\n",
       "      <td>9.812406</td>\n",
       "      <td>15.163465</td>\n",
       "      <td>10.138885</td>\n",
       "      <td>29</td>\n",
       "      <td>-13.179091</td>\n",
       "      <td>-9.057273</td>\n",
       "    </tr>\n",
       "    <tr>\n",
       "      <th>1</th>\n",
       "      <td>2017090700</td>\n",
       "      <td>20170907000118</td>\n",
       "      <td>away</td>\n",
       "      <td>45.33</td>\n",
       "      <td>32.64</td>\n",
       "      <td>0.42</td>\n",
       "      <td>1.35</td>\n",
       "      <td>0.01</td>\n",
       "      <td>27.61</td>\n",
       "      <td>198.70</td>\n",
       "      <td>2495116</td>\n",
       "      <td>Allen Bailey</td>\n",
       "      <td>97</td>\n",
       "      <td>2017</td>\n",
       "      <td>35</td>\n",
       "      <td>1</td>\n",
       "      <td>14:14:00</td>\n",
       "      <td>NE</td>\n",
       "      <td>3</td>\n",
       "      <td>2</td>\n",
       "      <td>NE</td>\n",
       "      <td>0</td>\n",
       "      <td>0</td>\n",
       "      <td>2543773</td>\n",
       "      <td>SHOTGUN</td>\n",
       "      <td>1 RB, 1 TE, 3 WR</td>\n",
       "      <td>6.0</td>\n",
       "      <td>2 DL, 3 LB, 6 DB</td>\n",
       "      <td>left</td>\n",
       "      <td>2017-09-08T00:44:06.000Z</td>\n",
       "      <td>2017-09-08T00:44:05.000Z</td>\n",
       "      <td>8</td>\n",
       "      <td>6-3</td>\n",
       "      <td>288</td>\n",
       "      <td>03/25/1989</td>\n",
       "      <td>Miami</td>\n",
       "      <td>DE</td>\n",
       "      <td>NE</td>\n",
       "      <td>KC</td>\n",
       "      <td>1</td>\n",
       "      <td>Gillette Stadium</td>\n",
       "      <td>Foxborough, MA</td>\n",
       "      <td>Outdoor</td>\n",
       "      <td>Field Turf</td>\n",
       "      <td>Clear and warm</td>\n",
       "      <td>63.0</td>\n",
       "      <td>77.0</td>\n",
       "      <td>8</td>\n",
       "      <td>SW</td>\n",
       "      <td>0</td>\n",
       "      <td>3</td>\n",
       "      <td>2-3</td>\n",
       "      <td>-1</td>\n",
       "      <td>2</td>\n",
       "      <td>2</td>\n",
       "      <td>75</td>\n",
       "      <td>35.993600</td>\n",
       "      <td>13.330061</td>\n",
       "      <td>5.119383</td>\n",
       "      <td>16.455161</td>\n",
       "      <td>97</td>\n",
       "      <td>-13.179091</td>\n",
       "      <td>-9.057273</td>\n",
       "    </tr>\n",
       "    <tr>\n",
       "      <th>2</th>\n",
       "      <td>2017090700</td>\n",
       "      <td>20170907000118</td>\n",
       "      <td>away</td>\n",
       "      <td>46.00</td>\n",
       "      <td>33.20</td>\n",
       "      <td>1.22</td>\n",
       "      <td>0.59</td>\n",
       "      <td>0.31</td>\n",
       "      <td>3.01</td>\n",
       "      <td>202.73</td>\n",
       "      <td>2495493</td>\n",
       "      <td>Justin Houston</td>\n",
       "      <td>50</td>\n",
       "      <td>2017</td>\n",
       "      <td>35</td>\n",
       "      <td>1</td>\n",
       "      <td>14:14:00</td>\n",
       "      <td>NE</td>\n",
       "      <td>3</td>\n",
       "      <td>2</td>\n",
       "      <td>NE</td>\n",
       "      <td>0</td>\n",
       "      <td>0</td>\n",
       "      <td>2543773</td>\n",
       "      <td>SHOTGUN</td>\n",
       "      <td>1 RB, 1 TE, 3 WR</td>\n",
       "      <td>6.0</td>\n",
       "      <td>2 DL, 3 LB, 6 DB</td>\n",
       "      <td>left</td>\n",
       "      <td>2017-09-08T00:44:06.000Z</td>\n",
       "      <td>2017-09-08T00:44:05.000Z</td>\n",
       "      <td>8</td>\n",
       "      <td>6-3</td>\n",
       "      <td>270</td>\n",
       "      <td>01/21/1989</td>\n",
       "      <td>Georgia</td>\n",
       "      <td>DE</td>\n",
       "      <td>NE</td>\n",
       "      <td>KC</td>\n",
       "      <td>1</td>\n",
       "      <td>Gillette Stadium</td>\n",
       "      <td>Foxborough, MA</td>\n",
       "      <td>Outdoor</td>\n",
       "      <td>Field Turf</td>\n",
       "      <td>Clear and warm</td>\n",
       "      <td>63.0</td>\n",
       "      <td>77.0</td>\n",
       "      <td>8</td>\n",
       "      <td>SW</td>\n",
       "      <td>0</td>\n",
       "      <td>3</td>\n",
       "      <td>2-3</td>\n",
       "      <td>-1</td>\n",
       "      <td>2</td>\n",
       "      <td>2</td>\n",
       "      <td>75</td>\n",
       "      <td>33.744000</td>\n",
       "      <td>12.496933</td>\n",
       "      <td>13.941178</td>\n",
       "      <td>6.742045</td>\n",
       "      <td>50</td>\n",
       "      <td>-13.179091</td>\n",
       "      <td>-9.057273</td>\n",
       "    </tr>\n",
       "  </tbody>\n",
       "</table>\n",
       "</div>"
      ],
      "text/plain": [
       "       GameId          PlayId  Team      X      Y     S     A   Dis  \\\n",
       "0  2017090700  20170907000118  away  46.09  34.84  1.69  1.13  0.40   \n",
       "1  2017090700  20170907000118  away  45.33  32.64  0.42  1.35  0.01   \n",
       "2  2017090700  20170907000118  away  46.00  33.20  1.22  0.59  0.31   \n",
       "\n",
       "   Orientation     Dir    NflId     DisplayName  JerseyNumber  Season  \\\n",
       "0        81.99  177.18   496723      Eric Berry            29    2017   \n",
       "1        27.61  198.70  2495116    Allen Bailey            97    2017   \n",
       "2         3.01  202.73  2495493  Justin Houston            50    2017   \n",
       "\n",
       "   YardLine  Quarter GameClock PossessionTeam  Down  Distance FieldPosition  \\\n",
       "0        35        1  14:14:00             NE     3         2            NE   \n",
       "1        35        1  14:14:00             NE     3         2            NE   \n",
       "2        35        1  14:14:00             NE     3         2            NE   \n",
       "\n",
       "   HomeScoreBeforePlay  VisitorScoreBeforePlay  NflIdRusher OffenseFormation  \\\n",
       "0                    0                       0      2543773          SHOTGUN   \n",
       "1                    0                       0      2543773          SHOTGUN   \n",
       "2                    0                       0      2543773          SHOTGUN   \n",
       "\n",
       "   OffensePersonnel  DefendersInTheBox  DefensePersonnel PlayDirection  \\\n",
       "0  1 RB, 1 TE, 3 WR                6.0  2 DL, 3 LB, 6 DB          left   \n",
       "1  1 RB, 1 TE, 3 WR                6.0  2 DL, 3 LB, 6 DB          left   \n",
       "2  1 RB, 1 TE, 3 WR                6.0  2 DL, 3 LB, 6 DB          left   \n",
       "\n",
       "                TimeHandoff                  TimeSnap  Yards PlayerHeight  \\\n",
       "0  2017-09-08T00:44:06.000Z  2017-09-08T00:44:05.000Z      8          6-0   \n",
       "1  2017-09-08T00:44:06.000Z  2017-09-08T00:44:05.000Z      8          6-3   \n",
       "2  2017-09-08T00:44:06.000Z  2017-09-08T00:44:05.000Z      8          6-3   \n",
       "\n",
       "   PlayerWeight PlayerBirthDate PlayerCollegeName Position HomeTeamAbbr  \\\n",
       "0           212      12/29/1988         Tennessee       SS           NE   \n",
       "1           288      03/25/1989             Miami       DE           NE   \n",
       "2           270      01/21/1989           Georgia       DE           NE   \n",
       "\n",
       "  VisitorTeamAbbr  Week           Stadium        Location StadiumType  \\\n",
       "0              KC     1  Gillette Stadium  Foxborough, MA     Outdoor   \n",
       "1              KC     1  Gillette Stadium  Foxborough, MA     Outdoor   \n",
       "2              KC     1  Gillette Stadium  Foxborough, MA     Outdoor   \n",
       "\n",
       "         Turf     GameWeather  Temperature  Humidity WindSpeed WindDirection  \\\n",
       "0  Field Turf  Clear and warm         63.0      77.0         8            SW   \n",
       "1  Field Turf  Clear and warm         63.0      77.0         8            SW   \n",
       "2  Field Turf  Clear and warm         63.0      77.0         8            SW   \n",
       "\n",
       "   diffScoreBeforePlay  num_WR DL_LB  SUB_DL_BL  num_DL  num_BL  \\\n",
       "0                    0       3   2-3         -1       2       2   \n",
       "1                    0       3   2-3         -1       2       2   \n",
       "2                    0       3   2-3         -1       2       2   \n",
       "\n",
       "   PlayerHeight_dense  PlayerBMI         kg  True_Momentum  Force_Newtons  \\\n",
       "0                  72  28.749228   9.812406      15.163465      10.138885   \n",
       "1                  75  35.993600  13.330061       5.119383      16.455161   \n",
       "2                  75  33.744000  12.496933      13.941178       6.742045   \n",
       "\n",
       "   JerseyNumber_fix  back_scrim_away  back_scrim_home  \n",
       "0                29       -13.179091        -9.057273  \n",
       "1                97       -13.179091        -9.057273  \n",
       "2                50       -13.179091        -9.057273  "
      ]
     },
     "execution_count": 31,
     "metadata": {},
     "output_type": "execute_result"
    }
   ],
   "source": [
    "df.head(3)"
   ]
  },
  {
   "cell_type": "code",
   "execution_count": 56,
   "metadata": {},
   "outputs": [],
   "source": [
    "df['TimeHandoff'] = df['TimeHandoff'].apply(lambda x: datetime.datetime.strptime(x, \"%Y-%m-%dT%H:%M:%S.%fZ\"))\n",
    "df['PlayerBirthDate'] = df['PlayerBirthDate'].apply(lambda x: datetime.datetime.strptime(x, \"%m/%d/%Y\"))\n",
    "seconds_in_year = 60*60*24*365\n",
    "df['PlayerAge'] = df.apply(lambda row: (row['TimeHandoff']-row['PlayerBirthDate']).total_seconds()/seconds_in_year, axis=1)\n",
    "   "
   ]
  },
  {
   "cell_type": "code",
   "execution_count": 61,
   "metadata": {},
   "outputs": [
    {
     "data": {
      "text/plain": [
       "<matplotlib.axes._subplots.AxesSubplot at 0x7f56cc2e8ba8>"
      ]
     },
     "execution_count": 61,
     "metadata": {},
     "output_type": "execute_result"
    },
    {
     "data": {
      "image/png": "[encoded data removed]",
      "text/plain": [
       "<Figure size 432x288 with 1 Axes>"
      ]
     },
     "metadata": {
      "needs_background": "light"
     },
     "output_type": "display_data"
    }
   ],
   "source": [
    "df['PlayerAge_fix'] = df['PlayerAge']//5\n",
    "df[df['NflId']==df['NflIdRusher']].groupby(['PlayerAge_fix']).Yards.mean().plot()"
   ]
  },
  {
   "cell_type": "code",
   "execution_count": 66,
   "metadata": {},
   "outputs": [
    {
     "data": {
      "text/plain": [
       "Position_int\n",
       "0    4.767336\n",
       "1    4.172739\n",
       "Name: Yards, dtype: float64"
      ]
     },
     "execution_count": 66,
     "metadata": {},
     "output_type": "execute_result"
    }
   ],
   "source": [
    "df['Position_int'] = df['Position'].apply(lambda x: 1 if x=='RB' else 0)\n",
    "df[df['NflId']==df['NflIdRusher']].groupby(['Position_int']).Yards.mean()"
   ]
  },
  {
   "cell_type": "code",
   "execution_count": null,
   "metadata": {},
   "outputs": [],
   "source": []
  }
 ],
 "metadata": {
  "kernelspec": {
   "display_name": "Python 3",
   "language": "python",
   "name": "python3"
  },
  "language_info": {
   "codemirror_mode": {
    "name": "ipython",
    "version": 3
   },
   "file_extension": ".py",
   "mimetype": "text/x-python",
   "name": "python",
   "nbconvert_exporter": "python",
   "pygments_lexer": "ipython3",
   "version": "3.5.2"
  }
 },
 "nbformat": 4,
 "nbformat_minor": 2
}
