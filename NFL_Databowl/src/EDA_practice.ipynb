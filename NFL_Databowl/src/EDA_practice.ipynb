{
 "cells": [
  {
   "cell_type": "code",
   "execution_count": null,
   "metadata": {},
   "outputs": [],
   "source": [
    "import os\n",
    "import pandas as pd\n",
    "import numpy as np\n",
    "import seaborn as sns\n",
    "import warnings\n",
    "import matplotlib.pyplot as plt\n",
    "import matplotlib.patches as patches\n",
    "import time\n",
    "from string import punctuation\n",
    "\n",
    "warnings.filterwarnings(\"ignore\")\n",
    "pd.set_option('max_columns', None)"
   ]
  },
  {
   "cell_type": "markdown",
   "metadata": {},
   "source": [
    "## Data description\n",
    "GameId - a unique game identifier<br/>\n",
    "PlayId - a unique play identifier<br/>\n",
    "Team - home or away<br/>\n",
    "X - player position along the long axis of the field. See figure below.<br/>\n",
    "Y - player position along the short axis of the field. See figure below.<br/>\n",
    "S - speed in yards/second<br/>\n",
    "A - acceleration in yards/second^2<br/>\n",
    "Dis - distance traveled from prior time point, in yards<br/>\n",
    "Orientation - orientation of player (deg)<br/>\n",
    "Dir - angle of player motion (deg)<br/>\n",
    "NflId - a unique identifier of the player<br/>\n",
    "DisplayName - player's name<br/>\n",
    "JerseyNumber - jersey number<br/>\n",
    "Season - year of the season<br/>\n",
    "YardLine - the yard line of the line of scrimmage<br/>\n",
    "Quarter - game quarter (1-5, 5 == overtime)<br/>\n",
    "GameClock - time on the game clock<br/>\n",
    "PossessionTeam - team with possession<br/>\n",
    "Down - the down (1-4)<br/>\n",
    "Distance - yards needed for a first down<br/>\n",
    "FieldPosition - which side of the field the play is happening on<br/>\n",
    "HomeScoreBeforePlay - home team score before play started<br/>\n",
    "VisitorScoreBeforePlay - visitor team score before play started<br/>\n",
    "NflIdRusher - the NflId of the rushing player<br/>\n",
    "OffenseFormation - offense formation<br/>\n",
    "OffensePersonnel - offensive team positional grouping<br/>\n",
    "DefendersInTheBox - number of defenders lined up near the line of scrimmage, spanning the width of the offensive line<br/>\n",
    "DefensePersonnel - defensive team positional grouping<br/>\n",
    "PlayDirection - direction the play is headed<br/>\n",
    "TimeHandoff - UTC time of the handoff<br/>\n",
    "TimeSnap - UTC time of the snap<br/>\n",
    "<br/>\n",
    "**Yards - the yardage gained on the play (you are predicting this)**<br/>\n",
    "<br/>\n",
    "PlayerHeight - player height (ft-in)<br/>\n",
    "PlayerWeight - player weight (lbs)<br/>\n",
    "PlayerBirthDate - birth date (mm/dd/yyyy)<br/>\n",
    "PlayerCollegeName - where the player attended college<br/>\n",
    "Position - the player's position (the specific role on the field that they typically play)<br/>\n",
    "HomeTeamAbbr - home team abbreviation<br/>\n",
    "VisitorTeamAbbr - visitor team abbreviation<br/>\n",
    "Week - week into the season<br/>\n",
    "Stadium - stadium where the game is being played<br/>\n",
    "Location - city where the game is being player<br/>\n",
    "StadiumType - description of the stadium environment<br/>\n",
    "Turf - description of the field surface<br/>\n",
    "GameWeather - description of the game weather<br/>\n",
    "Temperature - temperature (deg F)<br/>\n",
    "Humidity - humidity<br/>\n",
    "WindSpeed - wind speed in miles/hour<br/>\n",
    "WindDirection - wind direction<br/>\n"
   ]
  },
  {
   "cell_type": "code",
   "execution_count": 12,
   "metadata": {},
   "outputs": [],
   "source": [
    "import matplotlib.pyplot as plt\n",
    "import matplotlib.patches as patches\n",
    "\n",
    "def create_football_field(ax,\n",
    "                          linenumbers=True,\n",
    "                          endzones=True,\n",
    "                          line_gap = 10,\n",
    "                          highlight_line=False,\n",
    "                          highlight_line_number=50,\n",
    "                          highlighted_name='Line of Scrimmage',\n",
    "                          fifty_is_los=False,\n",
    "                          figsize=(12, 6.33)):\n",
    "    \"\"\"\n",
    "    Function that plots the football field for viewing plays.\n",
    "    Allows for showing or hiding endzones.\n",
    "    \"\"\"\n",
    "    rect = patches.Rectangle((0, 0), 120, 53.3, linewidth=0.1,\n",
    "                             edgecolor='r', facecolor='darkgreen', zorder=0)\n",
    "\n",
    "    # fig, ax = plt.subplots(1, figsize=figsize)\n",
    "    ax.add_patch(rect)\n",
    "\n",
    "    ax.plot([10, 10, 10, 20, 20, 30, 30, 40, 40, 50, 50, 60, 60, 70, 70, 80,\n",
    "            80, 90, 90, 100, 100, 110, 110, 120, 0, 0, 120, 120],\n",
    "            [0, 0, 53.3, 53.3, 0, 0, 53.3, 53.3, 0, 0, 53.3, 53.3, 0, 0, 53.3,\n",
    "            53.3, 0, 0, 53.3, 53.3, 0, 0, 53.3, 53.3, 53.3, 0, 0, 53.3],\n",
    "            color='white')\n",
    "    if fifty_is_los:\n",
    "        ax.plot([60, 60], [0, 53.3], color='gold')\n",
    "        ax.text(62, 50, '<- Player Yardline at Snap', color='gold')\n",
    "    # Endzones\n",
    "    if endzones:\n",
    "        ez1 = patches.Rectangle((0, 0), 10, 53.3,\n",
    "                                linewidth=0.1,\n",
    "                                edgecolor='r',\n",
    "                                facecolor='blue',\n",
    "                                alpha=0.2,\n",
    "                                zorder=0)\n",
    "        ez2 = patches.Rectangle((110, 0), 120, 53.3,\n",
    "                                linewidth=0.1,\n",
    "                                edgecolor='r',\n",
    "                                facecolor='blue',\n",
    "                                alpha=0.2,\n",
    "                                zorder=0)\n",
    "        ax.add_patch(ez1)\n",
    "        ax.add_patch(ez2)\n",
    "    ax.set_xlim(0, 120)\n",
    "    ax.set_ylim(-5, 58.3)\n",
    "    ax.axis('off')\n",
    "    if linenumbers:\n",
    "        for x in range(20, 110, 10):\n",
    "            numb = x\n",
    "            if x > 50:\n",
    "                numb = 120 - x\n",
    "            ax.text(x, 5, str(numb - 10),\n",
    "                    horizontalalignment='center',\n",
    "                    fontsize=20,  # fontname='Arial',\n",
    "                    color='white')\n",
    "            ax.text(x - 0.95, 53.3 - 5, str(numb - 10),\n",
    "                    horizontalalignment='center',\n",
    "                    fontsize=20,  # fontname='Arial',\n",
    "                    color='white', rotation=180)\n",
    "    if endzones:\n",
    "        hash_range = range(11, 110)\n",
    "    else:\n",
    "        hash_range = range(1, 120)\n",
    "\n",
    "    for x in hash_range:\n",
    "        ax.plot([x, x], [0.4, 0.7], color='white')\n",
    "        ax.plot([x, x], [53.0, 52.5], color='white')\n",
    "        ax.plot([x, x], [22.91, 23.57], color='white')\n",
    "        ax.plot([x, x], [29.73, 30.39], color='white')\n",
    "\n",
    "    if highlight_line:\n",
    "        hl = highlight_line_number + line_gap\n",
    "        ax.plot([hl, hl], [0, 53.3], color='yellow')\n",
    "        ax.text(hl + 2, 50, '<- {}'.format(highlighted_name),\n",
    "                color='yellow')\n",
    "    return ax\n"
   ]
  },
  {
   "cell_type": "markdown",
   "metadata": {},
   "source": [
    "## Read data and check info"
   ]
  },
  {
   "cell_type": "code",
   "execution_count": 3,
   "metadata": {},
   "outputs": [],
   "source": [
    "input_dir = os.path.join('../input', 'nfl-big-data-bowl-2020')\n",
    "train_path = os.path.join(input_dir, 'train.csv')\n",
    "use_columns = []"
   ]
  },
  {
   "cell_type": "code",
   "execution_count": 45,
   "metadata": {
    "scrolled": true
   },
   "outputs": [
    {
     "name": "stdout",
     "output_type": "stream",
     "text": [
      "<class 'pandas.core.frame.DataFrame'>\n",
      "RangeIndex: 509762 entries, 0 to 509761\n",
      "Data columns (total 49 columns):\n",
      "GameId                    509762 non-null int64\n",
      "PlayId                    509762 non-null int64\n",
      "Team                      509762 non-null object\n",
      "X                         509762 non-null float64\n",
      "Y                         509762 non-null float64\n",
      "S                         509762 non-null float64\n",
      "A                         509762 non-null float64\n",
      "Dis                       509762 non-null float64\n",
      "Orientation               509744 non-null float64\n",
      "Dir                       509748 non-null float64\n",
      "NflId                     509762 non-null int64\n",
      "DisplayName               509762 non-null object\n",
      "JerseyNumber              509762 non-null int64\n",
      "Season                    509762 non-null int64\n",
      "YardLine                  509762 non-null int64\n",
      "Quarter                   509762 non-null int64\n",
      "GameClock                 509762 non-null object\n",
      "PossessionTeam            509762 non-null object\n",
      "Down                      509762 non-null int64\n",
      "Distance                  509762 non-null int64\n",
      "FieldPosition             503338 non-null object\n",
      "HomeScoreBeforePlay       509762 non-null int64\n",
      "VisitorScoreBeforePlay    509762 non-null int64\n",
      "NflIdRusher               509762 non-null int64\n",
      "OffenseFormation          509652 non-null object\n",
      "OffensePersonnel          509762 non-null object\n",
      "DefendersInTheBox         509696 non-null float64\n",
      "DefensePersonnel          509762 non-null object\n",
      "PlayDirection             509762 non-null object\n",
      "TimeHandoff               509762 non-null object\n",
      "TimeSnap                  509762 non-null object\n",
      "Yards                     509762 non-null int64\n",
      "PlayerHeight              509762 non-null object\n",
      "PlayerWeight              509762 non-null int64\n",
      "PlayerBirthDate           509762 non-null object\n",
      "PlayerCollegeName         509762 non-null object\n",
      "Position                  509762 non-null object\n",
      "HomeTeamAbbr              509762 non-null object\n",
      "VisitorTeamAbbr           509762 non-null object\n",
      "Week                      509762 non-null int64\n",
      "Stadium                   509762 non-null object\n",
      "Location                  509762 non-null object\n",
      "StadiumType               476828 non-null object\n",
      "Turf                      509762 non-null object\n",
      "GameWeather               466114 non-null object\n",
      "Temperature               461230 non-null float64\n",
      "Humidity                  503602 non-null float64\n",
      "WindSpeed                 442332 non-null object\n",
      "WindDirection             429528 non-null object\n",
      "dtypes: float64(10), int64(15), object(24)\n",
      "memory usage: 190.6+ MB\n"
     ]
    }
   ],
   "source": [
    "df = pd.read_csv(train_path)\n",
    "df.info()"
   ]
  },
  {
   "cell_type": "code",
   "execution_count": 27,
   "metadata": {},
   "outputs": [],
   "source": [
    "def process_dist_with_rusher(df):\n",
    "    def get_dist(x1, y1, x2, y2):\n",
    "        x_diff = (x1-x2)**2\n",
    "        y_diff = (y1-y2)**2\n",
    "        return np.sqrt(x_diff + y_diff)\n",
    "    \n",
    "    def dist_to_section(dist):\n",
    "        if dist < 4:\n",
    "            return 7\n",
    "        elif dist < 6:\n",
    "            return 6\n",
    "        elif dist < 9:\n",
    "            return 5\n",
    "        elif dist < 11:\n",
    "            return 4\n",
    "        elif dist < 15:\n",
    "            return 3\n",
    "        elif dist < 18:\n",
    "            return 2\n",
    "        elif dist < 22:\n",
    "            return 1\n",
    "        else:\n",
    "            return 0\n",
    "        \n",
    "    dist_with_rusher = df[['GameId', 'PlayId', 'X', 'Y']]\n",
    "    dist_with_rusher = pd.merge(dist_with_rusher,\n",
    "                                df[df['NflId'] == df['NflIdRusher']][['GameId', 'PlayId', 'X', 'Y']],\n",
    "                                on=['GameId', 'PlayId'],\n",
    "                                how='left')\n",
    "    dist_with_rusher.columns = ['GameId', 'PlayId', 'X', 'Y', 'rusherX', 'rusherY']\n",
    "    df['Dist_with_Rusher'] = dist_with_rusher[['X', 'Y', 'rusherX', 'rusherY']].apply(lambda x: get_dist(x[0], x[1], x[2], x[3]), axis=1)\n",
    "    df['Dist_with_Rusher_Sec'] = df['Dist_with_Rusher'].apply(lambda x: dist_to_section(x))\n",
    "    return df\n",
    "df = process_dist_with_rusher(df)"
   ]
  },
  {
   "cell_type": "code",
   "execution_count": 28,
   "metadata": {},
   "outputs": [
    {
     "data": {
      "text/plain": [
       "<matplotlib.axes._subplots.AxesSubplot at 0x7f7efd029128>"
      ]
     },
     "execution_count": 28,
     "metadata": {},
     "output_type": "execute_result"
    },
    {
     "data": {
      "image/png": "[encoded data removed]",
      "text/plain": [
       "<Figure size 432x288 with 1 Axes>"
      ]
     },
     "metadata": {
      "needs_background": "light"
     },
     "output_type": "display_data"
    }
   ],
   "source": [
    "sns.distplot(df['Dist_with_Rusher'])"
   ]
  },
  {
   "cell_type": "code",
   "execution_count": 29,
   "metadata": {
    "scrolled": true
   },
   "outputs": [
    {
     "data": {
      "text/plain": [
       "<matplotlib.axes._subplots.AxesSubplot at 0x7f7efc2c7400>"
      ]
     },
     "execution_count": 29,
     "metadata": {},
     "output_type": "execute_result"
    },
    {
     "data": {
      "image/png": "[encoded data removed]",
      "text/plain": [
       "<Figure size 432x288 with 1 Axes>"
      ]
     },
     "metadata": {
      "needs_background": "light"
     },
     "output_type": "display_data"
    }
   ],
   "source": [
    "sns.distplot(df['Dist_with_Rusher_Sec'])"
   ]
  },
  {
   "cell_type": "markdown",
   "metadata": {},
   "source": [
    "# YardLine"
   ]
  },
  {
   "cell_type": "code",
   "execution_count": 14,
   "metadata": {},
   "outputs": [],
   "source": [
    "def new_line(rush_team, field_position, yardline):\n",
    "    if rush_team == field_position:\n",
    "        # offense starting at X = 0 plus the 10 yard endzone plus the line of scrimmage\n",
    "        return 10.0 + yardline\n",
    "    else:\n",
    "        # half the field plus the yards between midfield and the line of scrimmage\n",
    "        return 60.0 + (50 - yardline)\n",
    "    \n",
    "df['yardline_fix'] = df[['PossessionTeam','FieldPosition','YardLine']].apply(lambda x: new_line(x[0],x[1],x[2]), axis=1)\n",
    "\n",
    " "
   ]
  },
  {
   "cell_type": "code",
   "execution_count": 15,
   "metadata": {},
   "outputs": [
    {
     "data": {
      "text/html": [
       "<div>\n",
       "<style scoped>\n",
       "    .dataframe tbody tr th:only-of-type {\n",
       "        vertical-align: middle;\n",
       "    }\n",
       "\n",
       "    .dataframe tbody tr th {\n",
       "        vertical-align: top;\n",
       "    }\n",
       "\n",
       "    .dataframe thead th {\n",
       "        text-align: right;\n",
       "    }\n",
       "</style>\n",
       "<table border=\"1\" class=\"dataframe\">\n",
       "  <thead>\n",
       "    <tr style=\"text-align: right;\">\n",
       "      <th></th>\n",
       "      <th>yardline_fix</th>\n",
       "    </tr>\n",
       "  </thead>\n",
       "  <tbody>\n",
       "    <tr>\n",
       "      <th>count</th>\n",
       "      <td>509762.000000</td>\n",
       "    </tr>\n",
       "    <tr>\n",
       "      <th>mean</th>\n",
       "      <td>57.961849</td>\n",
       "    </tr>\n",
       "    <tr>\n",
       "      <th>std</th>\n",
       "      <td>25.160334</td>\n",
       "    </tr>\n",
       "    <tr>\n",
       "      <th>min</th>\n",
       "      <td>11.000000</td>\n",
       "    </tr>\n",
       "    <tr>\n",
       "      <th>25%</th>\n",
       "      <td>36.000000</td>\n",
       "    </tr>\n",
       "    <tr>\n",
       "      <th>50%</th>\n",
       "      <td>54.000000</td>\n",
       "    </tr>\n",
       "    <tr>\n",
       "      <th>75%</th>\n",
       "      <td>78.000000</td>\n",
       "    </tr>\n",
       "    <tr>\n",
       "      <th>max</th>\n",
       "      <td>109.000000</td>\n",
       "    </tr>\n",
       "  </tbody>\n",
       "</table>\n",
       "</div>"
      ],
      "text/plain": [
       "        yardline_fix\n",
       "count  509762.000000\n",
       "mean       57.961849\n",
       "std        25.160334\n",
       "min        11.000000\n",
       "25%        36.000000\n",
       "50%        54.000000\n",
       "75%        78.000000\n",
       "max       109.000000"
      ]
     },
     "execution_count": 15,
     "metadata": {},
     "output_type": "execute_result"
    }
   ],
   "source": [
    "df[['yardline_fix']].describe()"
   ]
  },
  {
   "cell_type": "markdown",
   "metadata": {},
   "source": [
    "## Check Columns\n",
    "<br/>\n",
    "check the relationships with playid and other columns"
   ]
  },
  {
   "cell_type": "markdown",
   "metadata": {},
   "source": [
    "## 1. Yards (target)"
   ]
  },
  {
   "cell_type": "code",
   "execution_count": null,
   "metadata": {
    "scrolled": true
   },
   "outputs": [],
   "source": [
    "plt.figure(figsize=(10, 5))\n",
    "sns.distplot(df['Yards'], kde=True)\n",
    "plt.axvline(df['Yards'].mean(), 0, 1, c='r')"
   ]
  },
  {
   "cell_type": "markdown",
   "metadata": {},
   "source": [
    "## 2. Stadium\n",
    "<br/>\n",
    "- [add columns - LocDegree]check stadium location and get degree<br/>\n",
    "- normalizing stadium name"
   ]
  },
  {
   "cell_type": "code",
   "execution_count": null,
   "metadata": {},
   "outputs": [],
   "source": [
    "map_stadium = {'CenturyLink': 'CenturyLink', 'CenturyLink Field': 'CenturyLink', 'Everbank Field': 'EverBank Field',\n",
    "               'First Energy Stadium': 'FirstEnergy Stadium', 'FirstEnergy': 'FirstEnergy Stadium', 'FirstEnergyStadium': 'FirstEnergy Stadium',\n",
    "               'Lambeau field': 'Lambeau Field', 'Los Angeles Memorial Coliesum': 'Los Angeles Memorial Coliseum',\n",
    "               'M & T Bank Stadium': 'M&T Bank Stadium', 'M&T Stadium': 'M&T Bank Stadium', 'MetLife': 'MetLife Stadium',\n",
    "               'Metlife Stadium': 'MetLife Stadium', 'NRG': 'NRG Stadium', 'Oakland Alameda-County Coliseum': 'Oakland-Alameda County Coliseum',\n",
    "               'Paul Brown Stdium': 'Paul Brown Stadium', 'Twickenham': 'Twickenham Stadium', 'Broncos Stadium At Mile High': 'Empower Field at Mile High',\n",
    "               'Sports Authority Field at Mile High': 'Empower Field at Mile High', 'CenturyField': 'CenturyLink',\n",
    "               'Mercedes-Benz Dome': 'Mercedes-Benz Stadium', 'Broncos Stadium at Mile High': 'Empower Field at Mile High',\n",
    "               'TIAA Bank Field': 'EverBank Field', 'Gillette Stadium': 'Gillette Stadium', 'New Era Field': 'New Era Field',\n",
    "               'Soldier Field': 'Soldier Field', 'Paul Brown Stadium': 'Paul Brown Stadium', 'Ford Field': 'Ford Field',\n",
    "               'NRG Stadium': 'NRG Stadium', 'Nissan Stadium': 'Nissan Stadium', 'FedExField': 'FedExField',\n",
    "               'Los Angeles Memorial Coliseum': 'Los Angeles Memorial Coliseum', 'Lambeau Field': 'Lambeau Field', 'Levis Stadium': 'Levis Stadium',\n",
    "               'AT&T Stadium': 'AT&T Stadium', 'U.S. Bank Stadium': 'U.S. Bank Stadium', 'M&T Bank Stadium': 'M&T Bank Stadium',\n",
    "               'Bank of America Stadium': 'Bank of America Stadium', 'Lucas Oil Stadium': 'Lucas Oil Stadium', 'Arrowhead Stadium': 'Arrowhead Stadium',\n",
    "               'Mercedes-Benz Superdome': 'Mercedes-Benz Superdome', 'Heinz Field': 'Heinz Field', 'Raymond James Stadium': 'Raymond James Stadium',\n",
    "               'StubHub Center': 'StubHub Center', 'Oakland-Alameda County Coliseum': 'Oakland-Alameda County Coliseum',\n",
    "               'MetLife Stadium': 'MetLife Stadium', 'Wembley Stadium': 'Wembley Stadium', 'Lincoln Financial Field': 'Lincoln Financial Field',\n",
    "               'University of Phoenix Stadium': 'University of Phoenix Stadium', 'Mercedes-Benz Stadium': 'Mercedes-Benz Stadium',\n",
    "               'FirstEnergy Stadium': 'FirstEnergy Stadium', 'Hard Rock Stadium': 'Hard Rock Stadium', 'EverBank Field': 'EverBank Field',\n",
    "               'Twickenham Stadium': 'Twickenham Stadium', 'Estadio Azteca': 'Estadio Azteca', 'State Farm Stadium': 'State Farm Stadium'}"
   ]
  },
  {
   "cell_type": "code",
   "execution_count": null,
   "metadata": {},
   "outputs": [],
   "source": [
    "print('[*]Unique size before mapping Stadium: {}'.format(len(df['Stadium'].unique())))\n",
    "df['Stadium'] = df['Stadium'].map(map_stadium)\n",
    "print('[*]Unique size After mapping Stadium: {}'.format(len(df['Stadium'].unique())))"
   ]
  },
  {
   "cell_type": "code",
   "execution_count": null,
   "metadata": {},
   "outputs": [],
   "source": [
    "#print('[*]Unique size LocDegree: {}'.format(len(df['LocDegree'].unique())))"
   ]
  },
  {
   "cell_type": "markdown",
   "metadata": {},
   "source": [
    "## 3. StadiumType\n",
    "- processing to [indoor, outdoor, open, closed]"
   ]
  },
  {
   "cell_type": "code",
   "execution_count": null,
   "metadata": {},
   "outputs": [],
   "source": [
    "df['StadiumType'].unique()"
   ]
  },
  {
   "cell_type": "code",
   "execution_count": null,
   "metadata": {},
   "outputs": [],
   "source": [
    "def transport_StadiumType(txt):\n",
    "    import re\n",
    "    rs = 'outside'\n",
    "    if pd.isna(txt):\n",
    "        return rs\n",
    "    txt = txt.lower()\n",
    "    txt = ''.join([x for x in txt if x.isalpha()])\n",
    "    if 'ou' in txt:\n",
    "        rs = 'outside'\n",
    "    elif 'in' in txt:\n",
    "        rs = 'inside'\n",
    "    elif 'ope' in txt:\n",
    "        rs = 'opened'\n",
    "    else:\n",
    "        rs = 'closed'\n",
    "    return rs"
   ]
  },
  {
   "cell_type": "code",
   "execution_count": null,
   "metadata": {
    "scrolled": true
   },
   "outputs": [],
   "source": [
    "df['StadiumType'] = df['StadiumType'].apply(transport_StadiumType)\n",
    "use_columns.append('StadiumType')\n",
    "df['StadiumType'].isnull().sum()"
   ]
  },
  {
   "cell_type": "markdown",
   "metadata": {},
   "source": [
    "## 4. Location\n",
    "- unique location per unique stadium"
   ]
  },
  {
   "cell_type": "markdown",
   "metadata": {},
   "source": [
    "각 게임(GameId)당 여러번의 경기(PlayId)를 한다.<br/>\n",
    "경기(PlayId) 마다 선수(displayName)은 동일하나 교체가 될 경우 다를 수 있다.<br/>\n",
    "각 게임(GameId)당 쿼터(Quarter)는 1~5 사이에 속한다.<br/>\n",
    "각 경기는 PlayDirection과 PossessionTeam이 같고 게임의 경기마다 바뀐다(전후반 위치 전환)<br/>\n",
    "Stadium 위도경도를 찾는다(WindDirection 관계를 위해서)<br/>\n",
    "WindSpeed, WindDirection이 모두 null인 경우 바람이 없는 것으로 간주한다<br/>\n",
    "WindSpeed가 0인 경우 기본적으로 바람의 방향은 없는 것으로 간주한다<br/>\n",
    "WindSpeed는 해당 월의 평균 WinSpeed로 대체한다.<br/>\n",
    "WindDirection 은 해당 Stadium의 most_values로 대체한다.<br/>\n",
    "WindDirection: 16방위<br/>\n",
    "<br/>\n",
    "**PlayId가 같을 때 같은 데이터**<br/>\n",
    "- OffensePersonnel"
   ]
  },
  {
   "cell_type": "markdown",
   "metadata": {},
   "source": [
    "## 5. GameId"
   ]
  },
  {
   "cell_type": "code",
   "execution_count": null,
   "metadata": {},
   "outputs": [],
   "source": [
    "df['Year'] = df['GameId'].apply(lambda x: str(x)[0:4]).astype(str)\n",
    "df['Month'] = df['GameId'].apply(lambda x: str(x)[4:6]).astype(str)\n",
    "use_columns.append('Year')\n",
    "use_columns.append('month')"
   ]
  },
  {
   "cell_type": "markdown",
   "metadata": {},
   "source": [
    "## 6. WindSpeed"
   ]
  },
  {
   "cell_type": "code",
   "execution_count": null,
   "metadata": {},
   "outputs": [],
   "source": [
    "df['WindSpeed'] = df['WindSpeed'].astype(str)\n",
    "df['WindDirection'] = df['WindDirection'].astype(str)"
   ]
  },
  {
   "cell_type": "code",
   "execution_count": null,
   "metadata": {},
   "outputs": [],
   "source": [
    "df['WindSpeed'].unique()"
   ]
  },
  {
   "cell_type": "code",
   "execution_count": null,
   "metadata": {},
   "outputs": [],
   "source": [
    "df['WindDirection'].unique()"
   ]
  },
  {
   "cell_type": "code",
   "execution_count": null,
   "metadata": {},
   "outputs": [],
   "source": [
    "#somre rows are swapped between WindDirection and WindSpeed\n",
    "def transport_WindSpeed(row, fillna=5):\n",
    "    speed = row['WindSpeed']\n",
    "    direction = row['WindDirection']\n",
    "    #둘 다 없을 때\n",
    "    if pd.isna(speed) and pd.isna(direction):\n",
    "        row['WindSpeed'] = 0\n",
    "        row['WindDirection'] = 'calm'\n",
    "    #speed만 없을 때\n",
    "    elif pd.isna(row['WindSpeed']):\n",
    "        row['WindSpeed'] = fillna\n",
    "        return row\n",
    "    #speed가 있고 direction이 있거나 없을 때\n",
    "    if type(speed) == str and speed.isalpha():\n",
    "        #direction이 값이 있고 숫자이면\n",
    "        if not pd.isna(direction) and str(direction[0]).isdigit():\n",
    "            row['WindDirection'], row['WindSpeed'] = speed, direction\n",
    "        \n",
    "        elif 'calm' in speed.lower():\n",
    "            row['WindSpeed'] = 0\n",
    "            row['WindDirection'] = 'calm'\n",
    "            \n",
    "    speed = str(speed)\n",
    "    speed = ''.join([x if (x.isdigit() or x=='.') else ' ' for x in speed ])\n",
    "    if len(speed.split()) > 1:\n",
    "        speed = int(float(speed.split()[0])) + int(float(speed.split()[-1]))\n",
    "        speed = speed//2\n",
    "    else:\n",
    "        speed = int(float(speed)) if speed[0].isdigit() else fillna\n",
    "    row['WindSpeed'] = speed\n",
    "    return row"
   ]
  },
  {
   "cell_type": "code",
   "execution_count": null,
   "metadata": {},
   "outputs": [],
   "source": [
    "df[['WindSpeed', 'WindDirection']] = df[['WindSpeed', 'WindDirection']].apply(transport_WindSpeed, axis=1)\n",
    "df['WindSpeed'] = df['WindSpeed'].astype(np.float)\n",
    "use_columns.append('WindSpeed')\n",
    "df['WindSpeed'].isnull().sum()"
   ]
  },
  {
   "cell_type": "code",
   "execution_count": null,
   "metadata": {},
   "outputs": [],
   "source": [
    "#check mean WindSpeed of each StadiumType\n",
    "speed_by_stadiumtype = pd.DataFrame(df.groupby(['StadiumType'], as_index=False)['WindSpeed'].mean())\n",
    "fig = plt.figure(figsize=(20, 3))\n",
    "plt.plot(speed_by_stadiumtype['StadiumType'], speed_by_stadiumtype['WindSpeed'].values)"
   ]
  },
  {
   "cell_type": "code",
   "execution_count": null,
   "metadata": {
    "scrolled": true
   },
   "outputs": [],
   "source": [
    "#check mean WindSpeed of each Month\n",
    "speed_by_month = pd.DataFrame(df.groupby(['Month'], as_index=False)['WindSpeed'].mean())\n",
    "fig = plt.figure(figsize=(20, 3))\n",
    "plt.plot(speed_by_month['Month'], speed_by_month['WindSpeed'].values)"
   ]
  },
  {
   "cell_type": "code",
   "execution_count": null,
   "metadata": {
    "scrolled": true
   },
   "outputs": [],
   "source": [
    "#check mean WindSpeed of each Stadium and each Month\n",
    "fig = plt.figure(figsize=(30, 3))\n",
    "speed_by_stadium = pd.DataFrame()\n",
    "speed_by_stadium['Stadium'] = df['Stadium'].unique()\n",
    "for month in ['09', '10', '11', '12']:\n",
    "    month_data = pd.DataFrame(df[df['Month']== month].groupby(['Stadium'], as_index=False)['WindSpeed'].mean())\n",
    "    month_data.columns = ['Stadium', month]\n",
    "    speed_by_stadium = pd.merge(speed_by_stadium, month_data, on='Stadium', how='left')\n",
    "fig = plt.figure(figsize=(20, 3))\n",
    "plt.plot(speed_by_stadium['Stadium'], speed_by_stadium['09'])\n",
    "plt.plot(speed_by_stadium['Stadium'], speed_by_stadium['10'])\n",
    "plt.plot(speed_by_stadium['Stadium'], speed_by_stadium['11'])\n",
    "plt.plot(speed_by_stadium['Stadium'], speed_by_stadium['12'])"
   ]
  },
  {
   "cell_type": "code",
   "execution_count": null,
   "metadata": {},
   "outputs": [],
   "source": [
    "def fill_windspeed_by_month(row):\n",
    "    month = row['Month']\n",
    "    speed = speed_by_month[speed_by_month['Month']==month]['WindSpeed'].values[0]\n",
    "    row['WindSpeed'] = speed\n",
    "    return row"
   ]
  },
  {
   "cell_type": "code",
   "execution_count": null,
   "metadata": {
    "scrolled": true
   },
   "outputs": [],
   "source": [
    "#df[df['WindSpeed'].isnull()] = df[df['WindSpeed'].isnull()].apply(fill_windspeed_by_month, axis=1)\n",
    "#df['WindSpeed'] = df['WindSpeed'].astype(np.float)"
   ]
  },
  {
   "cell_type": "markdown",
   "metadata": {},
   "source": [
    "## 7. WindDirection"
   ]
  },
  {
   "cell_type": "code",
   "execution_count": null,
   "metadata": {},
   "outputs": [],
   "source": [
    "df['WindDirection'].unique()"
   ]
  },
  {
   "cell_type": "code",
   "execution_count": null,
   "metadata": {},
   "outputs": [],
   "source": [
    "def cleaning_direction(txt, fillna=\"calm\"):\n",
    "    \n",
    "    if pd.isna(txt):\n",
    "        txt = fillna\n",
    "    \n",
    "    tmp = txt.lower()\n",
    "    tmp = ''.join([s for s in tmp if s not in punctuation])\n",
    "    tmp = tmp.replace(\"from\", \"\")\n",
    "    tmp = tmp.replace(\"to\", \"\")\n",
    "    flag = tmp.strip()\n",
    "    \n",
    "    tmp = tmp.replace(\"north\", \"North\")\n",
    "    tmp = tmp.replace(\"east\", \"East\")\n",
    "    tmp = tmp.replace(\"south\", \"South\")\n",
    "    tmp = tmp.replace(\"west\", \"West\")\n",
    "    tmp = tmp.replace(\"calm\", \"Calm\")\n",
    "    tmp = ''.join([x for x in tmp if x.isalpha() and x.isupper()])\n",
    "    rs = ''\n",
    "    if len(flag) < 4:\n",
    "        rs = flag.upper()\n",
    "    else:\n",
    "        rs = tmp\n",
    "    \n",
    "    if rs.count('N') == 1:\n",
    "        \n",
    "        if rs.count('E') == 1:\n",
    "            rs = 'NE'\n",
    "        elif rs.count('W') == 1:\n",
    "            rs = 'NW'\n",
    "        elif rs.count('W') == 2:\n",
    "            rs = 'WNW'\n",
    "        elif rs.count('E') == 2:\n",
    "            rs = 'ENE'\n",
    "        else:\n",
    "            rs = 'N'\n",
    "    elif rs.count('N') == 2:\n",
    "        if rs.count('W') == 1:\n",
    "            rs = 'NNW'\n",
    "        elif rs.count('E') == 1:\n",
    "            rs = 'NNE'\n",
    "        else:\n",
    "            rs = 'N'\n",
    "    elif rs.count('S') == 1:\n",
    "        if rs.count('E') == 1:\n",
    "            rs = 'SE'\n",
    "        elif rs.count('W') == 1:\n",
    "            rs = 'SW'\n",
    "        elif rs.count('W') == 2:\n",
    "            rs = 'WSW'\n",
    "        elif rs.count('E') == 2:\n",
    "            rs = 'ESE'\n",
    "        else:\n",
    "            rs = 'S'\n",
    "    elif rs.count('S') == 2:\n",
    "        if rs.count('W') == 1:\n",
    "            rs = 'SSW'\n",
    "        elif rs.count('E') == 1:\n",
    "            rs = 'SSE'\n",
    "        else:\n",
    "            rs = 'S'\n",
    "    elif rs.count('W'):\n",
    "        rs = 'W'\n",
    "    elif rs.count('E'):\n",
    "        rs = 'E'\n",
    "    else:\n",
    "        rs = 'C'\n",
    "    return rs"
   ]
  },
  {
   "cell_type": "code",
   "execution_count": null,
   "metadata": {},
   "outputs": [],
   "source": [
    "df['WindDirection'] = df['WindDirection'].apply(cleaning_direction)\n",
    "use_columns.append('WindDirection')\n",
    "df['WindDirection'].isnull().sum()"
   ]
  },
  {
   "cell_type": "code",
   "execution_count": null,
   "metadata": {},
   "outputs": [],
   "source": [
    "most_winddirection_by_stadium = pd.DataFrame(columns=['Direction'])\n",
    "for stadium in df['Stadium'].unique():\n",
    "    most_winddirection_by_stadium.loc[stadium, 'Direction'] = df[df['Stadium']==stadium]['WindDirection'].value_counts().index[0]"
   ]
  },
  {
   "cell_type": "code",
   "execution_count": null,
   "metadata": {
    "scrolled": true
   },
   "outputs": [],
   "source": [
    "most_winddirection_by_stadium"
   ]
  },
  {
   "cell_type": "code",
   "execution_count": null,
   "metadata": {},
   "outputs": [],
   "source": [
    "#somre rows are swapped between WindDirection and WindSpeed\n",
    "def fill_winddirection_by_stadium(row):\n",
    "    stadium = row['Stadium']\n",
    "    return most_winddirection_by_stadium.loc[stadium].values[0]\n",
    "#df[['WindDirection']] = df[['Stadium']].apply(fill_winddirection_by_stadium, axis=1)"
   ]
  },
  {
   "cell_type": "markdown",
   "metadata": {},
   "source": [
    "## Temperature & Humidity"
   ]
  },
  {
   "cell_type": "code",
   "execution_count": null,
   "metadata": {},
   "outputs": [],
   "source": [
    "#같은 월일 때 Stadium별로 기온의 편차가 심하지 않다. 기온은 Stadium(위치) 보다는 Month의 영향을 크게 받는다.\n",
    "pd.DataFrame(df[df['Month']=='09'].groupby(['Stadium'], as_index=False)['Temperature'].mean()).describe()"
   ]
  },
  {
   "cell_type": "code",
   "execution_count": null,
   "metadata": {},
   "outputs": [],
   "source": [
    "#check mean WindSpeed of each Month\n",
    "temperature_by_month = pd.DataFrame(df.groupby(['Month'], as_index=False)['Temperature'].mean())\n",
    "fig = plt.figure(figsize=(20, 3))\n",
    "plt.plot(temperature_by_month['Month'], temperature_by_month['Temperature'].values)"
   ]
  },
  {
   "cell_type": "code",
   "execution_count": null,
   "metadata": {},
   "outputs": [],
   "source": [
    "temperature_by_month"
   ]
  },
  {
   "cell_type": "code",
   "execution_count": null,
   "metadata": {},
   "outputs": [],
   "source": [
    "def transform_temperature(row):\n",
    "    if pd.isna(row['Temperature']):\n",
    "        month = row['Month']\n",
    "        temp = 60\n",
    "        if month == '09':\n",
    "            temp = 75\n",
    "        elif month == '10':\n",
    "            temp = 66\n",
    "        elif month == '11':\n",
    "            temp = 56\n",
    "        elif month == '12':\n",
    "            temp = 49\n",
    "        row['Temperature'] = temp\n",
    "        return row['Temperature']\n",
    "    else:\n",
    "        return row['Temperature']\n",
    "df['Temperature'] = df[['Month','Temperature']].apply(transform_temperature, axis=1).astype(np.float)\n",
    "use_columns.append('Temperature')"
   ]
  },
  {
   "cell_type": "code",
   "execution_count": null,
   "metadata": {},
   "outputs": [],
   "source": [
    "def fill_temperature_by_month(row):\n",
    "    month = row['Month']\n",
    "    temperature = temperature_by_month[temperature_by_month['Month']==month]['Temperature'].values[0]\n",
    "    row['Temperature'] = temperature\n",
    "    return row\n",
    "#df[df['Temperature'].isnull()] = df[df['Temperature'].isnull()].apply(fill_temperature_by_month, axis=1)\n",
    "#df['Temperature'] = df['Temperature'].astype(np.float)\n",
    "print('done')"
   ]
  },
  {
   "cell_type": "code",
   "execution_count": null,
   "metadata": {},
   "outputs": [],
   "source": [
    "#같은 월일 때 Stadium별로 습도의 편차가 심하다. 기온은 Stadium(위치) 의 영향을 크게 받는다.\n",
    "pd.DataFrame(df[df['Month']=='09'].groupby(['Stadium'], as_index=False)['Humidity'].mean()).describe()"
   ]
  },
  {
   "cell_type": "code",
   "execution_count": null,
   "metadata": {},
   "outputs": [],
   "source": [
    "humidity_by_stadium = pd.DataFrame(df.groupby(['Stadium'], as_index=False)['Humidity'].mean())"
   ]
  },
  {
   "cell_type": "code",
   "execution_count": null,
   "metadata": {},
   "outputs": [],
   "source": [
    "def fill_humidity_by_stadium(row):\n",
    "    stadium = row['Stadium']\n",
    "    humidity = humidity_by_stadium[humidity_by_stadium['Stadium']==stadium]['Humidity'].values[0]\n",
    "    row['Humidity'] = humidity\n",
    "    return row\n",
    "#df[df['Humidity'].isnull()] = df[df['Humidity'].isnull()].apply(fill_humidity_by_stadium, axis=1)\n",
    "#df['Humidity'] = df['Humidity'].astype(np.float)\n",
    "print('done')"
   ]
  },
  {
   "cell_type": "markdown",
   "metadata": {},
   "source": [
    "## Turf"
   ]
  },
  {
   "cell_type": "code",
   "execution_count": null,
   "metadata": {},
   "outputs": [],
   "source": [
    "def transform_temperature(col):\n",
    "    turf = {'Field Turf':'Artificial', 'A-Turf Titan':'Artificial', 'Grass':'Natural', 'UBU Sports Speed S5-M':'Artificial', \n",
    "        'Artificial':'Artificial', 'DD GrassMaster':'Artificial', 'Natural Grass':'Natural', \n",
    "        'UBU Speed Series-S5-M':'Artificial', 'FieldTurf':'Artificial', 'FieldTurf 360':'Artificial', 'Natural grass':'Natural', 'grass':'Natural', \n",
    "        'Natural':'Natural', 'Artifical':'Artificial', 'FieldTurf360':'Artificial', 'Naturall Grass':'Natural', 'Field turf':'Artificial', \n",
    "        'SISGrass':'Artificial', 'Twenty-Four/Seven Turf':'Artificial', 'natural grass':'Natural'} \n",
    "    rs = col.map(turf)\n",
    "    return df['Turf'] == 'Natural'"
   ]
  },
  {
   "cell_type": "code",
   "execution_count": null,
   "metadata": {},
   "outputs": [],
   "source": [
    "#from https://www.kaggle.com/c/nfl-big-data-bowl-2020/discussion/112681#latest-649087\n",
    "df['Turf'] = df[['Turf']].apply(transform_temperature)"
   ]
  },
  {
   "cell_type": "code",
   "execution_count": null,
   "metadata": {},
   "outputs": [],
   "source": [
    "sum(df['Turf']==False), sum(df['Turf']==True), "
   ]
  },
  {
   "cell_type": "markdown",
   "metadata": {},
   "source": [
    "## GameWeather"
   ]
  },
  {
   "cell_type": "code",
   "execution_count": null,
   "metadata": {
    "scrolled": false
   },
   "outputs": [],
   "source": [
    "df['GameWeather'].unique()"
   ]
  },
  {
   "cell_type": "code",
   "execution_count": null,
   "metadata": {},
   "outputs": [],
   "source": [
    "#transform to --> [cloudy, sunny, rainy, warm, cold]"
   ]
  },
  {
   "cell_type": "code",
   "execution_count": null,
   "metadata": {},
   "outputs": [],
   "source": [
    "cloudy_list = ['clou', 'hazy', 'wind', 'overcast', 'fog']\n",
    "clear_list = ['clear', 'sun', 'indoor', '']\n",
    "rainy_list = ['rain','shower']\n",
    "snow_list = ['snow']\n",
    "warm_list = ['warm']\n",
    "cold_list = ['cold', 'cool']"
   ]
  },
  {
   "cell_type": "code",
   "execution_count": null,
   "metadata": {},
   "outputs": [],
   "source": [
    "def clean_weather_warm(txt):\n",
    "    point = 0\n",
    "    if pd.isna(txt):\n",
    "        return point\n",
    "    txt = txt.lower()\n",
    "    for t in txt.split():\n",
    "        if t in warm_list:\n",
    "            point *= 2\n",
    "        if t in cold_list:\n",
    "            point -= 1\n",
    "        if t in snow_list:\n",
    "            point -= 1\n",
    "    return point"
   ]
  },
  {
   "cell_type": "code",
   "execution_count": null,
   "metadata": {},
   "outputs": [],
   "source": [
    "#df['isWarm'] = df['GameWeather'].apply(clean_weather_warm)"
   ]
  },
  {
   "cell_type": "code",
   "execution_count": null,
   "metadata": {},
   "outputs": [],
   "source": [
    "def clean_weather(txt):\n",
    "    point = 0\n",
    "    if pd.isna(txt):\n",
    "        return point\n",
    "    txt = txt.lower()\n",
    "    for t in txt.split():\n",
    "        if t in snow_list:\n",
    "            point -= 3\n",
    "        if t in rainy_list:\n",
    "            point -= 2\n",
    "        if t in cloudy_list:\n",
    "            point -= 1\n",
    "        if t in clear_list:\n",
    "            point += 3\n",
    "    return point"
   ]
  },
  {
   "cell_type": "code",
   "execution_count": null,
   "metadata": {},
   "outputs": [],
   "source": [
    "df['GameWeather'] = df['GameWeather'].apply(clean_weather).astype(np.float)\n",
    "use_columns.append('GameWeather')"
   ]
  },
  {
   "cell_type": "markdown",
   "metadata": {},
   "source": [
    "## Possession Team\n",
    "\n",
    "https://www.kaggle.com/bgmello/neural-networks-feature-engineering-for-the-win"
   ]
  },
  {
   "cell_type": "code",
   "execution_count": 110,
   "metadata": {},
   "outputs": [],
   "source": [
    "df = pd.read_csv(train_path)"
   ]
  },
  {
   "cell_type": "code",
   "execution_count": 17,
   "metadata": {},
   "outputs": [],
   "source": [
    "def new_line(rush_team, field_position, play_direction, yardline):\n",
    "    \n",
    "    if rush_team == field_position:\n",
    "        # offense starting at X = 0 plus the 10 yard endzone plus the line of scrimmage\n",
    "        if play_direction == 'left':\n",
    "            return 100 - yardline + 10\n",
    "        return yardline + 10\n",
    "    else:\n",
    "        # half the field plus the yards between midfield and the line of scrimmage\n",
    "        if play_direction == 'left':\n",
    "            return yardline + 10\n",
    "        return 100 -  yardline + 10\n",
    "\n",
    "def update_yardline(df):\n",
    "    new_yardline = df[df['NflId'] == df['NflIdRusher']]\n",
    "    new_yardline['YardLine'] = new_yardline[['PossessionTeam','FieldPosition','PlayDirection','YardLine']].apply(lambda x: new_line(x[0],x[1],x[2],x[3]), axis=1)\n",
    "    new_yardline = new_yardline[['GameId','PlayId','YardLine']]\n",
    "\n",
    "    return new_yardline\n",
    "new_yardline = update_yardline(df)"
   ]
  },
  {
   "cell_type": "code",
   "execution_count": 18,
   "metadata": {},
   "outputs": [],
   "source": [
    "df = df.drop(['YardLine'], axis=1)\n",
    "df = pd.merge(df, new_yardline, on=['GameId','PlayId'], how='inner')"
   ]
  },
  {
   "cell_type": "code",
   "execution_count": null,
   "metadata": {},
   "outputs": [],
   "source": [
    "map_abbr = {'ARI': 'ARZ', 'BAL': 'BLT', 'CLE': 'CLV', 'HOU': 'HST'}\n",
    "for abb in df['PossessionTeam'].unique():\n",
    "    map_abbr[abb] = abb"
   ]
  },
  {
   "cell_type": "markdown",
   "metadata": {},
   "source": [
    "## GameClock"
   ]
  },
  {
   "cell_type": "code",
   "execution_count": null,
   "metadata": {},
   "outputs": [],
   "source": [
    "def strtoseconds(txt):\n",
    "    txt = txt.split(':')\n",
    "    ans = int(txt[0])*60 + int(txt[1]) + int(txt[2])/60\n",
    "    return ans\n",
    "#df['GameClock'] = df['GameClock'].apply(strtoseconds)"
   ]
  },
  {
   "cell_type": "markdown",
   "metadata": {},
   "source": [
    "## PlayerHeight"
   ]
  },
  {
   "cell_type": "code",
   "execution_count": null,
   "metadata": {},
   "outputs": [],
   "source": [
    "df['PlayerHeight'] = df['PlayerHeight'].apply(lambda x: 12*int(x.split('-')[0])+int(x.split('-')[1]))"
   ]
  },
  {
   "cell_type": "code",
   "execution_count": null,
   "metadata": {},
   "outputs": [],
   "source": [
    "#Add Col\n",
    "df['PlayerBMI'] = 703*(df['PlayerWeight']/(df['PlayerHeight'])**2)"
   ]
  },
  {
   "cell_type": "markdown",
   "metadata": {},
   "source": [
    "## GameClock"
   ]
  },
  {
   "cell_type": "code",
   "execution_count": null,
   "metadata": {},
   "outputs": [],
   "source": [
    "df[['GameClock', 'TimeHandoff', 'TimeSnap']].head(1)"
   ]
  },
  {
   "cell_type": "code",
   "execution_count": null,
   "metadata": {},
   "outputs": [],
   "source": [
    "import datetime\n",
    "df['TimeHandoff'] = df['TimeHandoff'].apply(lambda x: datetime.datetime.strptime(x, \"%Y-%m-%dT%H:%M:%S.%fZ\"))\n",
    "df['TimeSnap'] = df['TimeSnap'].apply(lambda x: datetime.datetime.strptime(x, \"%Y-%m-%dT%H:%M:%S.%fZ\"))"
   ]
  },
  {
   "cell_type": "code",
   "execution_count": null,
   "metadata": {},
   "outputs": [],
   "source": [
    "df['TimeDelta_snap'] = df.apply(lambda row: (row['TimeHandoff'] - row['TimeSnap']).total_seconds(), axis=1)"
   ]
  },
  {
   "cell_type": "code",
   "execution_count": null,
   "metadata": {},
   "outputs": [],
   "source": [
    "df['TimeDelta'] = df['TimeHandoff'].apply(lambda row: row.hour*3600 + row.minute*60 + row.second)"
   ]
  },
  {
   "cell_type": "markdown",
   "metadata": {},
   "source": [
    "## Player Birthdate"
   ]
  },
  {
   "cell_type": "code",
   "execution_count": null,
   "metadata": {},
   "outputs": [],
   "source": [
    "df['PlayerBirthDate'] = df['PlayerBirthDate'].apply(lambda x: datetime.datetime.strptime(x, \"%m/%d/%Y\"))"
   ]
  },
  {
   "cell_type": "code",
   "execution_count": null,
   "metadata": {},
   "outputs": [],
   "source": [
    "seconds_in_year = 60*60*24*365.25\n",
    "df['PlayerAge'] = df.apply(lambda row: (row['TimeHandoff']-row['PlayerBirthDate']).total_seconds()/seconds_in_year, axis=1)"
   ]
  },
  {
   "cell_type": "code",
   "execution_count": null,
   "metadata": {},
   "outputs": [],
   "source": [
    "df.head(3)"
   ]
  },
  {
   "cell_type": "code",
   "execution_count": null,
   "metadata": {},
   "outputs": [],
   "source": [
    "df = df.drop(['TimeHandoff', 'TimeSnap', 'PlayerBirthDate'], axis=1)"
   ]
  },
  {
   "cell_type": "markdown",
   "metadata": {},
   "source": [
    "## Team"
   ]
  },
  {
   "cell_type": "code",
   "execution_count": null,
   "metadata": {},
   "outputs": [],
   "source": [
    "df['Team'] = df['Team'].apply(lambda x: x.strip() == 'home')"
   ]
  },
  {
   "cell_type": "code",
   "execution_count": null,
   "metadata": {},
   "outputs": [],
   "source": [
    "df['HomeField'] = df['FieldPosition'] == df['HomeTeamAbbr']"
   ]
  },
  {
   "cell_type": "markdown",
   "metadata": {},
   "source": [
    "## NflId"
   ]
  },
  {
   "cell_type": "code",
   "execution_count": null,
   "metadata": {},
   "outputs": [],
   "source": [
    "df['IsRusher'] = df['NflId'] == df['NflIdRusher']\n",
    "df.drop(['NflId', 'NflIdRusher'], axis=1, inplace=True)"
   ]
  },
  {
   "cell_type": "markdown",
   "metadata": {},
   "source": [
    "## YardsLeft"
   ]
  },
  {
   "cell_type": "code",
   "execution_count": null,
   "metadata": {},
   "outputs": [],
   "source": [
    "df['YardsLeft'] = df.apply(lambda row: 100-int(row['YardLine']) if row['HomeField'] else int(row['YardLine']), axis=1)"
   ]
  },
  {
   "cell_type": "code",
   "execution_count": null,
   "metadata": {},
   "outputs": [],
   "source": [
    "df['YardsLeft'] = df.apply(lambda row: row['YardsLeft'] if row['PlayDirection'] else 100-row['YardsLeft'], axis=1)"
   ]
  },
  {
   "cell_type": "code",
   "execution_count": null,
   "metadata": {},
   "outputs": [],
   "source": [
    "orientation_nan_playid = df[df['Orientation'].isnull()]['PlayId'].unique()"
   ]
  },
  {
   "cell_type": "code",
   "execution_count": null,
   "metadata": {
    "scrolled": false
   },
   "outputs": [],
   "source": [
    "orientation_by_play = pd.DataFrame(columns = ['OrientationAVG'])\n",
    "for play in orientation_nan_playid:\n",
    "    avg = df[df['PlayId']==play]['Orientation'].mean()\n",
    "    orientation_by_play.loc[play] = avg\n",
    "orientation_by_play"
   ]
  },
  {
   "cell_type": "code",
   "execution_count": null,
   "metadata": {},
   "outputs": [],
   "source": [
    "def fill_orientation_by_game(row):\n",
    "    playid = row['PlayId']\n",
    "    row['Orientation'] = orientation_by_play.loc[playid, 'OrientationAVG']\n",
    "    return row\n",
    "df[df['Orientation'].isnull()] = df[df['Orientation'].isnull()].apply(fill_orientation_by_game, axis=1)\n",
    "df['Orientation'] = df['Orientation'].astype(np.float)\n",
    "print('done')"
   ]
  },
  {
   "cell_type": "code",
   "execution_count": null,
   "metadata": {},
   "outputs": [],
   "source": [
    "dir_nan_playid = df[df['Dir'].isnull()]['PlayId'].unique()\n",
    "dir_by_play = pd.DataFrame(columns = ['DirAVG'])\n",
    "for play in dir_nan_playid:\n",
    "    avg = df[df['PlayId']==play]['Dir'].mean()\n",
    "    dir_by_play.loc[play] = avg\n",
    "dir_by_play"
   ]
  },
  {
   "cell_type": "code",
   "execution_count": null,
   "metadata": {
    "scrolled": true
   },
   "outputs": [],
   "source": [
    "def fill_dir_by_game(row):\n",
    "    playid = row['PlayId']\n",
    "    row['Dir'] = dir_by_play.loc[playid, 'DirAVG']\n",
    "    return row\n",
    "df[df['Dir'].isnull()] = df[df['Dir'].isnull()].apply(fill_dir_by_game, axis=1)\n",
    "df['Dir'] = df['Dir'].astype(np.float)\n",
    "print('done')"
   ]
  },
  {
   "cell_type": "markdown",
   "metadata": {},
   "source": [
    "## FieldPosition"
   ]
  },
  {
   "cell_type": "code",
   "execution_count": null,
   "metadata": {},
   "outputs": [],
   "source": [
    "for gameid in df[df['FieldPosition'].isnull()]['GameId'].unique():\n",
    "    val = df[df['GameId']==gameid]['FieldPosition'].value_counts().index[0]\n",
    "    idx = df[df['GameId']==gameid][df['FieldPosition'].isnull()].index\n",
    "    df.loc[idx, 'FieldPosition'] = val\n",
    "print('done')"
   ]
  },
  {
   "cell_type": "markdown",
   "metadata": {},
   "source": [
    "## OffenseFormation"
   ]
  },
  {
   "cell_type": "code",
   "execution_count": null,
   "metadata": {},
   "outputs": [],
   "source": [
    "for gameid in df[df['OffenseFormation'].isnull()]['GameId'].unique():\n",
    "    val = df[df['GameId']==gameid]['OffenseFormation'].value_counts().index[0]\n",
    "    idx = df[df['GameId']==gameid][df['OffenseFormation'].isnull()].index\n",
    "    df.loc[idx, 'OffenseFormation'] = val\n",
    "print('done')"
   ]
  },
  {
   "cell_type": "code",
   "execution_count": null,
   "metadata": {},
   "outputs": [],
   "source": [
    "for gameid in df[df['OffenseFormation'].isnull()]['GameId'].unique():\n",
    "    val = df[df['GameId']==gameid]['OffenseFormation'].value_counts().index[0]\n",
    "    idx = df[df['GameId']==gameid][df['OffenseFormation'].isnull()].index\n",
    "    df.loc[idx, 'OffenseFormation'] = val\n",
    "print('done')"
   ]
  },
  {
   "cell_type": "code",
   "execution_count": null,
   "metadata": {},
   "outputs": [],
   "source": [
    "df['DefendersInTheBox'] = df['DefendersInTheBox'].fillna(7.0)"
   ]
  },
  {
   "cell_type": "code",
   "execution_count": null,
   "metadata": {},
   "outputs": [],
   "source": []
  },
  {
   "cell_type": "code",
   "execution_count": null,
   "metadata": {},
   "outputs": [],
   "source": [
    "df['Month'] = df['Month'].astype(np.float)\n",
    "df['Year'] = df['Year'].astype(np.float)"
   ]
  },
  {
   "cell_type": "code",
   "execution_count": null,
   "metadata": {},
   "outputs": [],
   "source": [
    "df = df.drop(['GameId', 'PlayId', 'DisplayName', 'GameClock', 'DefensePersonnel'], axis=1)"
   ]
  },
  {
   "cell_type": "code",
   "execution_count": null,
   "metadata": {},
   "outputs": [],
   "source": [
    "for col in df.columns:\n",
    "    if df[col].dtypes == 'object':\n",
    "        one_hot = pd.get_dummies(df[col]) \n",
    "        df = pd.concat([df.drop([col], axis=1), pd.get_dummies(df[col], prefix=col+'_')], axis=1)\n",
    "    elif df[col].dtypes == 'bool':\n",
    "        df[col] = df[col].astype(np.int)"
   ]
  },
  {
   "cell_type": "markdown",
   "metadata": {},
   "source": [
    "## Jersey\n",
    "1 - 19:     Quarterbacks, punters, and kickers<br/>\n",
    "20 - 49:   Running backs and defensive backs<br/>\n",
    "50 - 59:   Centers<br/>\n",
    "60 - 79:   Defensive linemen and offensive linemen<br/>\n",
    "80 - 89:   Receivers and tight ends<br/>\n",
    "90 - 99:   Defensive linemen and linebackers<br/>\n"
   ]
  },
  {
   "cell_type": "code",
   "execution_count": null,
   "metadata": {},
   "outputs": [],
   "source": [
    "\n",
    "jersey = df[df['NflId'] == df['NflIdRusher']][['JerseyNumber', 'Yards']]\n",
    "def change_num(num):\n",
    "    if 1<=num<=19:\n",
    "        return 6\n",
    "    elif 20<=num<=49:\n",
    "        return 4\n",
    "    elif 50<=num<=59:\n",
    "        return 3\n",
    "    elif 60<=num<=79:\n",
    "        return 1\n",
    "    elif 80<=num<=89:\n",
    "        return 5\n",
    "    else:\n",
    "        return 2\n",
    "jersey['JerseyNumber'] = jersey['JerseyNumber'].apply(change_num)\n",
    "jersey.groupby(['JerseyNumber'])['Yards'].mean()"
   ]
  },
  {
   "cell_type": "code",
   "execution_count": null,
   "metadata": {},
   "outputs": [],
   "source": [
    "jersey['JerseyNumber'].value_counts()"
   ]
  }
 ],
 "metadata": {
  "kernelspec": {
   "display_name": "Python 3",
   "language": "python",
   "name": "python3"
  },
  "language_info": {
   "codemirror_mode": {
    "name": "ipython",
    "version": 3
   },
   "file_extension": ".py",
   "mimetype": "text/x-python",
   "name": "python",
   "nbconvert_exporter": "python",
   "pygments_lexer": "ipython3",
   "version": "3.5.2"
  }
 },
 "nbformat": 4,
 "nbformat_minor": 2
}
